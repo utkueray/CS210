{
 "cells": [
  {
   "cell_type": "raw",
   "metadata": {},
   "source": [
    "Mehmet Utku Eray - 23883\n",
    "Deniz Bozkurt - 24142\n",
    "Yağız İsmet Uğur - 21087"
   ]
  },
  {
   "cell_type": "code",
   "execution_count": 1,
   "metadata": {},
   "outputs": [],
   "source": [
    "import pandas as pd \n",
    "import numpy as np\n",
    "from datetime import datetime\n",
    "import matplotlib.pyplot as plt\n",
    "from scipy import stats\n",
    "import seaborn as sns\n",
    "import statistics\n",
    "import pylab as pl\n",
    "from sklearn import linear_model\n",
    "from sklearn.model_selection import train_test_split\n",
    "from sklearn.neighbors import KNeighborsClassifier\n",
    "from sklearn.metrics import mean_squared_error\n",
    "from sklearn import metrics\n",
    "from sklearn import neighbors\n",
    "from sklearn.metrics import mean_squared_error \n",
    "from math import sqrt\n",
    "import matplotlib.pyplot as plt\n",
    "%matplotlib inline\n",
    "from sklearn.neighbors import KNeighborsRegressor\n",
    "from sklearn.tree import DecisionTreeRegressor  \n",
    "\n",
    "import warnings\n",
    "warnings.filterwarnings('ignore')"
   ]
  },
  {
   "cell_type": "code",
   "execution_count": 2,
   "metadata": {},
   "outputs": [],
   "source": [
    "vgsales = \"dataSets/vgsales.csv\"\n",
    "video_game = \"dataSets/video_game.csv\"\n",
    "youtubeUS = \"dataSets/USvideos.csv\"\n",
    "youtubeCA = \"dataSets/CAvideos.csv\"\n",
    "youtubeDE = \"dataSets/DEvideos.csv\"\n",
    "youtubeGB = \"dataSets/GBvideos.csv\"\n",
    "youtubeFR = \"dataSets/FRvideos.csv\"\n",
    "\n",
    "video_game_sales_df = pd.read_csv(vgsales)\n",
    "video_game_df = pd.read_csv(video_game)\n",
    "youtube_US_df = pd.read_csv(youtubeUS)\n",
    "youtube_CA_df = pd.read_csv(youtubeCA)\n",
    "youtube_FR_df = pd.read_csv(youtubeFR)\n",
    "youtube_GB_df = pd.read_csv(youtubeGB)\n",
    "youtube_DE_df = pd.read_csv(youtubeDE)"
   ]
  },
  {
   "cell_type": "raw",
   "metadata": {},
   "source": [
    "Combining US and CA datasets of Youtube for NA representation."
   ]
  },
  {
   "cell_type": "code",
   "execution_count": 3,
   "metadata": {},
   "outputs": [],
   "source": [
    "youtube_GL_df = youtube_US_df.append(youtube_CA_df).append(youtube_FR_df).append(youtube_GB_df)"
   ]
  },
  {
   "cell_type": "markdown",
   "metadata": {},
   "source": [
    "# Data Exploration"
   ]
  },
  {
   "cell_type": "raw",
   "metadata": {},
   "source": [
    "Give basic information regarding the dataset such as shape, data types and descriptive statistics that summarize columns."
   ]
  },
  {
   "cell_type": "code",
   "execution_count": 4,
   "metadata": {},
   "outputs": [
    {
     "name": "stdout",
     "output_type": "stream",
     "text": [
      "number of rows: 161470, number of columns: 16\n"
     ]
    },
    {
     "data": {
      "text/plain": [
       "video_id                  object\n",
       "trending_date             object\n",
       "title                     object\n",
       "channel_title             object\n",
       "category_id                int64\n",
       "publish_time              object\n",
       "tags                      object\n",
       "views                      int64\n",
       "likes                      int64\n",
       "dislikes                   int64\n",
       "comment_count              int64\n",
       "thumbnail_link            object\n",
       "comments_disabled           bool\n",
       "ratings_disabled            bool\n",
       "video_error_or_removed      bool\n",
       "description               object\n",
       "dtype: object"
      ]
     },
     "execution_count": 4,
     "metadata": {},
     "output_type": "execute_result"
    }
   ],
   "source": [
    "#Youtube NA\n",
    "n_rows, n_columns = youtube_GL_df.shape\n",
    "print(\"number of rows: {}, number of columns: {}\".format(n_rows, n_columns))\n",
    "\n",
    "youtube_GL_df.dtypes"
   ]
  },
  {
   "cell_type": "code",
   "execution_count": 5,
   "metadata": {},
   "outputs": [
    {
     "name": "stdout",
     "output_type": "stream",
     "text": [
      "number of rows: 16719, number of columns: 17\n"
     ]
    },
    {
     "data": {
      "text/plain": [
       "Unnamed: 0           int64\n",
       "Name                object\n",
       "Platform            object\n",
       "Year_of_Release    float64\n",
       "Genre               object\n",
       "Publisher           object\n",
       "NA_players         float64\n",
       "EU_players         float64\n",
       "JP_players         float64\n",
       "Other_players      float64\n",
       "Global_players     float64\n",
       "Critic_Score       float64\n",
       "Critic_Count       float64\n",
       "User_Score          object\n",
       "User_Count         float64\n",
       "Developer           object\n",
       "Rating              object\n",
       "dtype: object"
      ]
     },
     "execution_count": 5,
     "metadata": {},
     "output_type": "execute_result"
    }
   ],
   "source": [
    "#Video Game\n",
    "n_rows, n_columns = video_game_df.shape\n",
    "print(\"number of rows: {}, number of columns: {}\".format(n_rows, n_columns))\n",
    "\n",
    "video_game_df.dtypes"
   ]
  },
  {
   "cell_type": "code",
   "execution_count": 6,
   "metadata": {},
   "outputs": [
    {
     "name": "stdout",
     "output_type": "stream",
     "text": [
      "number of rows: 16598, number of columns: 11\n"
     ]
    },
    {
     "data": {
      "text/plain": [
       "Rank              int64\n",
       "Name             object\n",
       "Platform         object\n",
       "Year            float64\n",
       "Genre            object\n",
       "Publisher        object\n",
       "NA_Sales        float64\n",
       "EU_Sales        float64\n",
       "JP_Sales        float64\n",
       "Other_Sales     float64\n",
       "Global_Sales    float64\n",
       "dtype: object"
      ]
     },
     "execution_count": 6,
     "metadata": {},
     "output_type": "execute_result"
    }
   ],
   "source": [
    "#Video Game Sales\n",
    "n_rows, n_columns = video_game_sales_df.shape\n",
    "print(\"number of rows: {}, number of columns: {}\".format(n_rows, n_columns))\n",
    "\n",
    "video_game_sales_df.dtypes"
   ]
  },
  {
   "cell_type": "code",
   "execution_count": 7,
   "metadata": {},
   "outputs": [
    {
     "data": {
      "text/html": [
       "<div>\n",
       "<style scoped>\n",
       "    .dataframe tbody tr th:only-of-type {\n",
       "        vertical-align: middle;\n",
       "    }\n",
       "\n",
       "    .dataframe tbody tr th {\n",
       "        vertical-align: top;\n",
       "    }\n",
       "\n",
       "    .dataframe thead th {\n",
       "        text-align: right;\n",
       "    }\n",
       "</style>\n",
       "<table border=\"1\" class=\"dataframe\">\n",
       "  <thead>\n",
       "    <tr style=\"text-align: right;\">\n",
       "      <th></th>\n",
       "      <th>category_id</th>\n",
       "      <th>views</th>\n",
       "      <th>likes</th>\n",
       "      <th>dislikes</th>\n",
       "      <th>comment_count</th>\n",
       "    </tr>\n",
       "  </thead>\n",
       "  <tbody>\n",
       "    <tr>\n",
       "      <th>count</th>\n",
       "      <td>161470.000000</td>\n",
       "      <td>1.614700e+05</td>\n",
       "      <td>1.614700e+05</td>\n",
       "      <td>1.614700e+05</td>\n",
       "      <td>1.614700e+05</td>\n",
       "    </tr>\n",
       "    <tr>\n",
       "      <th>mean</th>\n",
       "      <td>19.461151</td>\n",
       "      <td>2.419854e+06</td>\n",
       "      <td>6.566194e+04</td>\n",
       "      <td>3.490153e+03</td>\n",
       "      <td>7.035494e+03</td>\n",
       "    </tr>\n",
       "    <tr>\n",
       "      <th>std</th>\n",
       "      <td>7.432001</td>\n",
       "      <td>1.043749e+07</td>\n",
       "      <td>2.260617e+05</td>\n",
       "      <td>3.114779e+04</td>\n",
       "      <td>3.404121e+04</td>\n",
       "    </tr>\n",
       "    <tr>\n",
       "      <th>min</th>\n",
       "      <td>1.000000</td>\n",
       "      <td>2.230000e+02</td>\n",
       "      <td>0.000000e+00</td>\n",
       "      <td>0.000000e+00</td>\n",
       "      <td>0.000000e+00</td>\n",
       "    </tr>\n",
       "    <tr>\n",
       "      <th>25%</th>\n",
       "      <td>15.000000</td>\n",
       "      <td>1.015382e+05</td>\n",
       "      <td>1.975000e+03</td>\n",
       "      <td>8.500000e+01</td>\n",
       "      <td>2.790000e+02</td>\n",
       "    </tr>\n",
       "    <tr>\n",
       "      <th>50%</th>\n",
       "      <td>23.000000</td>\n",
       "      <td>3.847395e+05</td>\n",
       "      <td>9.840000e+03</td>\n",
       "      <td>3.480000e+02</td>\n",
       "      <td>1.144000e+03</td>\n",
       "    </tr>\n",
       "    <tr>\n",
       "      <th>75%</th>\n",
       "      <td>24.000000</td>\n",
       "      <td>1.339528e+06</td>\n",
       "      <td>4.006275e+04</td>\n",
       "      <td>1.350000e+03</td>\n",
       "      <td>4.144750e+03</td>\n",
       "    </tr>\n",
       "    <tr>\n",
       "      <th>max</th>\n",
       "      <td>44.000000</td>\n",
       "      <td>4.245389e+08</td>\n",
       "      <td>5.613827e+06</td>\n",
       "      <td>1.944971e+06</td>\n",
       "      <td>1.626501e+06</td>\n",
       "    </tr>\n",
       "  </tbody>\n",
       "</table>\n",
       "</div>"
      ],
      "text/plain": [
       "         category_id         views         likes      dislikes  comment_count\n",
       "count  161470.000000  1.614700e+05  1.614700e+05  1.614700e+05   1.614700e+05\n",
       "mean       19.461151  2.419854e+06  6.566194e+04  3.490153e+03   7.035494e+03\n",
       "std         7.432001  1.043749e+07  2.260617e+05  3.114779e+04   3.404121e+04\n",
       "min         1.000000  2.230000e+02  0.000000e+00  0.000000e+00   0.000000e+00\n",
       "25%        15.000000  1.015382e+05  1.975000e+03  8.500000e+01   2.790000e+02\n",
       "50%        23.000000  3.847395e+05  9.840000e+03  3.480000e+02   1.144000e+03\n",
       "75%        24.000000  1.339528e+06  4.006275e+04  1.350000e+03   4.144750e+03\n",
       "max        44.000000  4.245389e+08  5.613827e+06  1.944971e+06   1.626501e+06"
      ]
     },
     "execution_count": 7,
     "metadata": {},
     "output_type": "execute_result"
    }
   ],
   "source": [
    "youtube_GL_df.describe()"
   ]
  },
  {
   "cell_type": "code",
   "execution_count": 8,
   "metadata": {},
   "outputs": [
    {
     "data": {
      "text/html": [
       "<div>\n",
       "<style scoped>\n",
       "    .dataframe tbody tr th:only-of-type {\n",
       "        vertical-align: middle;\n",
       "    }\n",
       "\n",
       "    .dataframe tbody tr th {\n",
       "        vertical-align: top;\n",
       "    }\n",
       "\n",
       "    .dataframe thead th {\n",
       "        text-align: right;\n",
       "    }\n",
       "</style>\n",
       "<table border=\"1\" class=\"dataframe\">\n",
       "  <thead>\n",
       "    <tr style=\"text-align: right;\">\n",
       "      <th></th>\n",
       "      <th>Unnamed: 0</th>\n",
       "      <th>Year_of_Release</th>\n",
       "      <th>NA_players</th>\n",
       "      <th>EU_players</th>\n",
       "      <th>JP_players</th>\n",
       "      <th>Other_players</th>\n",
       "      <th>Global_players</th>\n",
       "      <th>Critic_Score</th>\n",
       "      <th>Critic_Count</th>\n",
       "      <th>User_Count</th>\n",
       "    </tr>\n",
       "  </thead>\n",
       "  <tbody>\n",
       "    <tr>\n",
       "      <th>count</th>\n",
       "      <td>16719.000000</td>\n",
       "      <td>16450.000000</td>\n",
       "      <td>16719.000000</td>\n",
       "      <td>16719.000000</td>\n",
       "      <td>16719.000000</td>\n",
       "      <td>16719.000000</td>\n",
       "      <td>16719.000000</td>\n",
       "      <td>8137.000000</td>\n",
       "      <td>8137.000000</td>\n",
       "      <td>7590.000000</td>\n",
       "    </tr>\n",
       "    <tr>\n",
       "      <th>mean</th>\n",
       "      <td>8360.000000</td>\n",
       "      <td>2006.487356</td>\n",
       "      <td>0.263330</td>\n",
       "      <td>0.145025</td>\n",
       "      <td>0.077602</td>\n",
       "      <td>0.047332</td>\n",
       "      <td>0.533543</td>\n",
       "      <td>68.967679</td>\n",
       "      <td>26.360821</td>\n",
       "      <td>162.229908</td>\n",
       "    </tr>\n",
       "    <tr>\n",
       "      <th>std</th>\n",
       "      <td>4826.503911</td>\n",
       "      <td>5.878995</td>\n",
       "      <td>0.813514</td>\n",
       "      <td>0.503283</td>\n",
       "      <td>0.308818</td>\n",
       "      <td>0.186710</td>\n",
       "      <td>1.547935</td>\n",
       "      <td>13.938165</td>\n",
       "      <td>18.980495</td>\n",
       "      <td>561.282326</td>\n",
       "    </tr>\n",
       "    <tr>\n",
       "      <th>min</th>\n",
       "      <td>1.000000</td>\n",
       "      <td>1980.000000</td>\n",
       "      <td>0.000000</td>\n",
       "      <td>0.000000</td>\n",
       "      <td>0.000000</td>\n",
       "      <td>0.000000</td>\n",
       "      <td>0.010000</td>\n",
       "      <td>13.000000</td>\n",
       "      <td>3.000000</td>\n",
       "      <td>4.000000</td>\n",
       "    </tr>\n",
       "    <tr>\n",
       "      <th>25%</th>\n",
       "      <td>4180.500000</td>\n",
       "      <td>2003.000000</td>\n",
       "      <td>0.000000</td>\n",
       "      <td>0.000000</td>\n",
       "      <td>0.000000</td>\n",
       "      <td>0.000000</td>\n",
       "      <td>0.060000</td>\n",
       "      <td>60.000000</td>\n",
       "      <td>12.000000</td>\n",
       "      <td>10.000000</td>\n",
       "    </tr>\n",
       "    <tr>\n",
       "      <th>50%</th>\n",
       "      <td>8360.000000</td>\n",
       "      <td>2007.000000</td>\n",
       "      <td>0.080000</td>\n",
       "      <td>0.020000</td>\n",
       "      <td>0.000000</td>\n",
       "      <td>0.010000</td>\n",
       "      <td>0.170000</td>\n",
       "      <td>71.000000</td>\n",
       "      <td>21.000000</td>\n",
       "      <td>24.000000</td>\n",
       "    </tr>\n",
       "    <tr>\n",
       "      <th>75%</th>\n",
       "      <td>12539.500000</td>\n",
       "      <td>2010.000000</td>\n",
       "      <td>0.240000</td>\n",
       "      <td>0.110000</td>\n",
       "      <td>0.040000</td>\n",
       "      <td>0.030000</td>\n",
       "      <td>0.470000</td>\n",
       "      <td>79.000000</td>\n",
       "      <td>36.000000</td>\n",
       "      <td>81.000000</td>\n",
       "    </tr>\n",
       "    <tr>\n",
       "      <th>max</th>\n",
       "      <td>16719.000000</td>\n",
       "      <td>2020.000000</td>\n",
       "      <td>41.360000</td>\n",
       "      <td>28.960000</td>\n",
       "      <td>10.220000</td>\n",
       "      <td>10.570000</td>\n",
       "      <td>82.530000</td>\n",
       "      <td>98.000000</td>\n",
       "      <td>113.000000</td>\n",
       "      <td>10665.000000</td>\n",
       "    </tr>\n",
       "  </tbody>\n",
       "</table>\n",
       "</div>"
      ],
      "text/plain": [
       "         Unnamed: 0  Year_of_Release    NA_players    EU_players  \\\n",
       "count  16719.000000     16450.000000  16719.000000  16719.000000   \n",
       "mean    8360.000000      2006.487356      0.263330      0.145025   \n",
       "std     4826.503911         5.878995      0.813514      0.503283   \n",
       "min        1.000000      1980.000000      0.000000      0.000000   \n",
       "25%     4180.500000      2003.000000      0.000000      0.000000   \n",
       "50%     8360.000000      2007.000000      0.080000      0.020000   \n",
       "75%    12539.500000      2010.000000      0.240000      0.110000   \n",
       "max    16719.000000      2020.000000     41.360000     28.960000   \n",
       "\n",
       "         JP_players  Other_players  Global_players  Critic_Score  \\\n",
       "count  16719.000000   16719.000000    16719.000000   8137.000000   \n",
       "mean       0.077602       0.047332        0.533543     68.967679   \n",
       "std        0.308818       0.186710        1.547935     13.938165   \n",
       "min        0.000000       0.000000        0.010000     13.000000   \n",
       "25%        0.000000       0.000000        0.060000     60.000000   \n",
       "50%        0.000000       0.010000        0.170000     71.000000   \n",
       "75%        0.040000       0.030000        0.470000     79.000000   \n",
       "max       10.220000      10.570000       82.530000     98.000000   \n",
       "\n",
       "       Critic_Count    User_Count  \n",
       "count   8137.000000   7590.000000  \n",
       "mean      26.360821    162.229908  \n",
       "std       18.980495    561.282326  \n",
       "min        3.000000      4.000000  \n",
       "25%       12.000000     10.000000  \n",
       "50%       21.000000     24.000000  \n",
       "75%       36.000000     81.000000  \n",
       "max      113.000000  10665.000000  "
      ]
     },
     "execution_count": 8,
     "metadata": {},
     "output_type": "execute_result"
    }
   ],
   "source": [
    "video_game_df.describe()"
   ]
  },
  {
   "cell_type": "code",
   "execution_count": 9,
   "metadata": {},
   "outputs": [
    {
     "data": {
      "text/html": [
       "<div>\n",
       "<style scoped>\n",
       "    .dataframe tbody tr th:only-of-type {\n",
       "        vertical-align: middle;\n",
       "    }\n",
       "\n",
       "    .dataframe tbody tr th {\n",
       "        vertical-align: top;\n",
       "    }\n",
       "\n",
       "    .dataframe thead th {\n",
       "        text-align: right;\n",
       "    }\n",
       "</style>\n",
       "<table border=\"1\" class=\"dataframe\">\n",
       "  <thead>\n",
       "    <tr style=\"text-align: right;\">\n",
       "      <th></th>\n",
       "      <th>Rank</th>\n",
       "      <th>Year</th>\n",
       "      <th>NA_Sales</th>\n",
       "      <th>EU_Sales</th>\n",
       "      <th>JP_Sales</th>\n",
       "      <th>Other_Sales</th>\n",
       "      <th>Global_Sales</th>\n",
       "    </tr>\n",
       "  </thead>\n",
       "  <tbody>\n",
       "    <tr>\n",
       "      <th>count</th>\n",
       "      <td>16598.000000</td>\n",
       "      <td>16327.000000</td>\n",
       "      <td>16598.000000</td>\n",
       "      <td>16598.000000</td>\n",
       "      <td>16598.000000</td>\n",
       "      <td>16598.000000</td>\n",
       "      <td>16598.000000</td>\n",
       "    </tr>\n",
       "    <tr>\n",
       "      <th>mean</th>\n",
       "      <td>8300.605254</td>\n",
       "      <td>2006.406443</td>\n",
       "      <td>0.264667</td>\n",
       "      <td>0.146652</td>\n",
       "      <td>0.077782</td>\n",
       "      <td>0.048063</td>\n",
       "      <td>0.537441</td>\n",
       "    </tr>\n",
       "    <tr>\n",
       "      <th>std</th>\n",
       "      <td>4791.853933</td>\n",
       "      <td>5.828981</td>\n",
       "      <td>0.816683</td>\n",
       "      <td>0.505351</td>\n",
       "      <td>0.309291</td>\n",
       "      <td>0.188588</td>\n",
       "      <td>1.555028</td>\n",
       "    </tr>\n",
       "    <tr>\n",
       "      <th>min</th>\n",
       "      <td>1.000000</td>\n",
       "      <td>1980.000000</td>\n",
       "      <td>0.000000</td>\n",
       "      <td>0.000000</td>\n",
       "      <td>0.000000</td>\n",
       "      <td>0.000000</td>\n",
       "      <td>0.010000</td>\n",
       "    </tr>\n",
       "    <tr>\n",
       "      <th>25%</th>\n",
       "      <td>4151.250000</td>\n",
       "      <td>2003.000000</td>\n",
       "      <td>0.000000</td>\n",
       "      <td>0.000000</td>\n",
       "      <td>0.000000</td>\n",
       "      <td>0.000000</td>\n",
       "      <td>0.060000</td>\n",
       "    </tr>\n",
       "    <tr>\n",
       "      <th>50%</th>\n",
       "      <td>8300.500000</td>\n",
       "      <td>2007.000000</td>\n",
       "      <td>0.080000</td>\n",
       "      <td>0.020000</td>\n",
       "      <td>0.000000</td>\n",
       "      <td>0.010000</td>\n",
       "      <td>0.170000</td>\n",
       "    </tr>\n",
       "    <tr>\n",
       "      <th>75%</th>\n",
       "      <td>12449.750000</td>\n",
       "      <td>2010.000000</td>\n",
       "      <td>0.240000</td>\n",
       "      <td>0.110000</td>\n",
       "      <td>0.040000</td>\n",
       "      <td>0.040000</td>\n",
       "      <td>0.470000</td>\n",
       "    </tr>\n",
       "    <tr>\n",
       "      <th>max</th>\n",
       "      <td>16600.000000</td>\n",
       "      <td>2020.000000</td>\n",
       "      <td>41.490000</td>\n",
       "      <td>29.020000</td>\n",
       "      <td>10.220000</td>\n",
       "      <td>10.570000</td>\n",
       "      <td>82.740000</td>\n",
       "    </tr>\n",
       "  </tbody>\n",
       "</table>\n",
       "</div>"
      ],
      "text/plain": [
       "               Rank          Year      NA_Sales      EU_Sales      JP_Sales  \\\n",
       "count  16598.000000  16327.000000  16598.000000  16598.000000  16598.000000   \n",
       "mean    8300.605254   2006.406443      0.264667      0.146652      0.077782   \n",
       "std     4791.853933      5.828981      0.816683      0.505351      0.309291   \n",
       "min        1.000000   1980.000000      0.000000      0.000000      0.000000   \n",
       "25%     4151.250000   2003.000000      0.000000      0.000000      0.000000   \n",
       "50%     8300.500000   2007.000000      0.080000      0.020000      0.000000   \n",
       "75%    12449.750000   2010.000000      0.240000      0.110000      0.040000   \n",
       "max    16600.000000   2020.000000     41.490000     29.020000     10.220000   \n",
       "\n",
       "        Other_Sales  Global_Sales  \n",
       "count  16598.000000  16598.000000  \n",
       "mean       0.048063      0.537441  \n",
       "std        0.188588      1.555028  \n",
       "min        0.000000      0.010000  \n",
       "25%        0.000000      0.060000  \n",
       "50%        0.010000      0.170000  \n",
       "75%        0.040000      0.470000  \n",
       "max       10.570000     82.740000  "
      ]
     },
     "execution_count": 9,
     "metadata": {},
     "output_type": "execute_result"
    }
   ],
   "source": [
    "video_game_sales_df.describe()"
   ]
  },
  {
   "cell_type": "code",
   "execution_count": 10,
   "metadata": {},
   "outputs": [
    {
     "data": {
      "text/html": [
       "<div>\n",
       "<style scoped>\n",
       "    .dataframe tbody tr th:only-of-type {\n",
       "        vertical-align: middle;\n",
       "    }\n",
       "\n",
       "    .dataframe tbody tr th {\n",
       "        vertical-align: top;\n",
       "    }\n",
       "\n",
       "    .dataframe thead th {\n",
       "        text-align: right;\n",
       "    }\n",
       "</style>\n",
       "<table border=\"1\" class=\"dataframe\">\n",
       "  <thead>\n",
       "    <tr style=\"text-align: right;\">\n",
       "      <th></th>\n",
       "      <th>video_id</th>\n",
       "      <th>trending_date</th>\n",
       "      <th>title</th>\n",
       "      <th>channel_title</th>\n",
       "      <th>category_id</th>\n",
       "      <th>publish_time</th>\n",
       "      <th>tags</th>\n",
       "      <th>views</th>\n",
       "      <th>likes</th>\n",
       "      <th>dislikes</th>\n",
       "      <th>comment_count</th>\n",
       "      <th>thumbnail_link</th>\n",
       "      <th>comments_disabled</th>\n",
       "      <th>ratings_disabled</th>\n",
       "      <th>video_error_or_removed</th>\n",
       "      <th>description</th>\n",
       "    </tr>\n",
       "  </thead>\n",
       "  <tbody>\n",
       "    <tr>\n",
       "      <th>0</th>\n",
       "      <td>2kyS6SvSYSE</td>\n",
       "      <td>17.14.11</td>\n",
       "      <td>WE WANT TO TALK ABOUT OUR MARRIAGE</td>\n",
       "      <td>CaseyNeistat</td>\n",
       "      <td>22</td>\n",
       "      <td>2017-11-13T17:13:01.000Z</td>\n",
       "      <td>SHANtell martin</td>\n",
       "      <td>748374</td>\n",
       "      <td>57527</td>\n",
       "      <td>2966</td>\n",
       "      <td>15954</td>\n",
       "      <td>https://i.ytimg.com/vi/2kyS6SvSYSE/default.jpg</td>\n",
       "      <td>False</td>\n",
       "      <td>False</td>\n",
       "      <td>False</td>\n",
       "      <td>SHANTELL'S CHANNEL - https://www.youtube.com/s...</td>\n",
       "    </tr>\n",
       "    <tr>\n",
       "      <th>1</th>\n",
       "      <td>1ZAPwfrtAFY</td>\n",
       "      <td>17.14.11</td>\n",
       "      <td>The Trump Presidency: Last Week Tonight with J...</td>\n",
       "      <td>LastWeekTonight</td>\n",
       "      <td>24</td>\n",
       "      <td>2017-11-13T07:30:00.000Z</td>\n",
       "      <td>last week tonight trump presidency|\"last week ...</td>\n",
       "      <td>2418783</td>\n",
       "      <td>97185</td>\n",
       "      <td>6146</td>\n",
       "      <td>12703</td>\n",
       "      <td>https://i.ytimg.com/vi/1ZAPwfrtAFY/default.jpg</td>\n",
       "      <td>False</td>\n",
       "      <td>False</td>\n",
       "      <td>False</td>\n",
       "      <td>One year after the presidential election, John...</td>\n",
       "    </tr>\n",
       "    <tr>\n",
       "      <th>2</th>\n",
       "      <td>5qpjK5DgCt4</td>\n",
       "      <td>17.14.11</td>\n",
       "      <td>Racist Superman | Rudy Mancuso, King Bach &amp; Le...</td>\n",
       "      <td>Rudy Mancuso</td>\n",
       "      <td>23</td>\n",
       "      <td>2017-11-12T19:05:24.000Z</td>\n",
       "      <td>racist superman|\"rudy\"|\"mancuso\"|\"king\"|\"bach\"...</td>\n",
       "      <td>3191434</td>\n",
       "      <td>146033</td>\n",
       "      <td>5339</td>\n",
       "      <td>8181</td>\n",
       "      <td>https://i.ytimg.com/vi/5qpjK5DgCt4/default.jpg</td>\n",
       "      <td>False</td>\n",
       "      <td>False</td>\n",
       "      <td>False</td>\n",
       "      <td>WATCH MY PREVIOUS VIDEO ▶ \\n\\nSUBSCRIBE ► http...</td>\n",
       "    </tr>\n",
       "    <tr>\n",
       "      <th>3</th>\n",
       "      <td>puqaWrEC7tY</td>\n",
       "      <td>17.14.11</td>\n",
       "      <td>Nickelback Lyrics: Real or Fake?</td>\n",
       "      <td>Good Mythical Morning</td>\n",
       "      <td>24</td>\n",
       "      <td>2017-11-13T11:00:04.000Z</td>\n",
       "      <td>rhett and link|\"gmm\"|\"good mythical morning\"|\"...</td>\n",
       "      <td>343168</td>\n",
       "      <td>10172</td>\n",
       "      <td>666</td>\n",
       "      <td>2146</td>\n",
       "      <td>https://i.ytimg.com/vi/puqaWrEC7tY/default.jpg</td>\n",
       "      <td>False</td>\n",
       "      <td>False</td>\n",
       "      <td>False</td>\n",
       "      <td>Today we find out if Link is a Nickelback amat...</td>\n",
       "    </tr>\n",
       "    <tr>\n",
       "      <th>4</th>\n",
       "      <td>d380meD0W0M</td>\n",
       "      <td>17.14.11</td>\n",
       "      <td>I Dare You: GOING BALD!?</td>\n",
       "      <td>nigahiga</td>\n",
       "      <td>24</td>\n",
       "      <td>2017-11-12T18:01:41.000Z</td>\n",
       "      <td>ryan|\"higa\"|\"higatv\"|\"nigahiga\"|\"i dare you\"|\"...</td>\n",
       "      <td>2095731</td>\n",
       "      <td>132235</td>\n",
       "      <td>1989</td>\n",
       "      <td>17518</td>\n",
       "      <td>https://i.ytimg.com/vi/d380meD0W0M/default.jpg</td>\n",
       "      <td>False</td>\n",
       "      <td>False</td>\n",
       "      <td>False</td>\n",
       "      <td>I know it's been a while since we did this sho...</td>\n",
       "    </tr>\n",
       "  </tbody>\n",
       "</table>\n",
       "</div>"
      ],
      "text/plain": [
       "      video_id trending_date  \\\n",
       "0  2kyS6SvSYSE      17.14.11   \n",
       "1  1ZAPwfrtAFY      17.14.11   \n",
       "2  5qpjK5DgCt4      17.14.11   \n",
       "3  puqaWrEC7tY      17.14.11   \n",
       "4  d380meD0W0M      17.14.11   \n",
       "\n",
       "                                               title          channel_title  \\\n",
       "0                 WE WANT TO TALK ABOUT OUR MARRIAGE           CaseyNeistat   \n",
       "1  The Trump Presidency: Last Week Tonight with J...        LastWeekTonight   \n",
       "2  Racist Superman | Rudy Mancuso, King Bach & Le...           Rudy Mancuso   \n",
       "3                   Nickelback Lyrics: Real or Fake?  Good Mythical Morning   \n",
       "4                           I Dare You: GOING BALD!?               nigahiga   \n",
       "\n",
       "   category_id              publish_time  \\\n",
       "0           22  2017-11-13T17:13:01.000Z   \n",
       "1           24  2017-11-13T07:30:00.000Z   \n",
       "2           23  2017-11-12T19:05:24.000Z   \n",
       "3           24  2017-11-13T11:00:04.000Z   \n",
       "4           24  2017-11-12T18:01:41.000Z   \n",
       "\n",
       "                                                tags    views   likes  \\\n",
       "0                                    SHANtell martin   748374   57527   \n",
       "1  last week tonight trump presidency|\"last week ...  2418783   97185   \n",
       "2  racist superman|\"rudy\"|\"mancuso\"|\"king\"|\"bach\"...  3191434  146033   \n",
       "3  rhett and link|\"gmm\"|\"good mythical morning\"|\"...   343168   10172   \n",
       "4  ryan|\"higa\"|\"higatv\"|\"nigahiga\"|\"i dare you\"|\"...  2095731  132235   \n",
       "\n",
       "   dislikes  comment_count                                  thumbnail_link  \\\n",
       "0      2966          15954  https://i.ytimg.com/vi/2kyS6SvSYSE/default.jpg   \n",
       "1      6146          12703  https://i.ytimg.com/vi/1ZAPwfrtAFY/default.jpg   \n",
       "2      5339           8181  https://i.ytimg.com/vi/5qpjK5DgCt4/default.jpg   \n",
       "3       666           2146  https://i.ytimg.com/vi/puqaWrEC7tY/default.jpg   \n",
       "4      1989          17518  https://i.ytimg.com/vi/d380meD0W0M/default.jpg   \n",
       "\n",
       "   comments_disabled  ratings_disabled  video_error_or_removed  \\\n",
       "0              False             False                   False   \n",
       "1              False             False                   False   \n",
       "2              False             False                   False   \n",
       "3              False             False                   False   \n",
       "4              False             False                   False   \n",
       "\n",
       "                                         description  \n",
       "0  SHANTELL'S CHANNEL - https://www.youtube.com/s...  \n",
       "1  One year after the presidential election, John...  \n",
       "2  WATCH MY PREVIOUS VIDEO ▶ \\n\\nSUBSCRIBE ► http...  \n",
       "3  Today we find out if Link is a Nickelback amat...  \n",
       "4  I know it's been a while since we did this sho...  "
      ]
     },
     "execution_count": 10,
     "metadata": {},
     "output_type": "execute_result"
    }
   ],
   "source": [
    "youtube_GL_df.head()"
   ]
  },
  {
   "cell_type": "code",
   "execution_count": 11,
   "metadata": {},
   "outputs": [
    {
     "data": {
      "text/html": [
       "<div>\n",
       "<style scoped>\n",
       "    .dataframe tbody tr th:only-of-type {\n",
       "        vertical-align: middle;\n",
       "    }\n",
       "\n",
       "    .dataframe tbody tr th {\n",
       "        vertical-align: top;\n",
       "    }\n",
       "\n",
       "    .dataframe thead th {\n",
       "        text-align: right;\n",
       "    }\n",
       "</style>\n",
       "<table border=\"1\" class=\"dataframe\">\n",
       "  <thead>\n",
       "    <tr style=\"text-align: right;\">\n",
       "      <th></th>\n",
       "      <th>Unnamed: 0</th>\n",
       "      <th>Name</th>\n",
       "      <th>Platform</th>\n",
       "      <th>Year_of_Release</th>\n",
       "      <th>Genre</th>\n",
       "      <th>Publisher</th>\n",
       "      <th>NA_players</th>\n",
       "      <th>EU_players</th>\n",
       "      <th>JP_players</th>\n",
       "      <th>Other_players</th>\n",
       "      <th>Global_players</th>\n",
       "      <th>Critic_Score</th>\n",
       "      <th>Critic_Count</th>\n",
       "      <th>User_Score</th>\n",
       "      <th>User_Count</th>\n",
       "      <th>Developer</th>\n",
       "      <th>Rating</th>\n",
       "    </tr>\n",
       "  </thead>\n",
       "  <tbody>\n",
       "    <tr>\n",
       "      <th>0</th>\n",
       "      <td>1</td>\n",
       "      <td>Wii Sports</td>\n",
       "      <td>Wii</td>\n",
       "      <td>2006.0</td>\n",
       "      <td>Sports</td>\n",
       "      <td>Nintendo</td>\n",
       "      <td>41.36</td>\n",
       "      <td>28.96</td>\n",
       "      <td>3.77</td>\n",
       "      <td>8.45</td>\n",
       "      <td>82.53</td>\n",
       "      <td>76.0</td>\n",
       "      <td>51.0</td>\n",
       "      <td>8</td>\n",
       "      <td>322.0</td>\n",
       "      <td>Nintendo</td>\n",
       "      <td>E</td>\n",
       "    </tr>\n",
       "    <tr>\n",
       "      <th>1</th>\n",
       "      <td>2</td>\n",
       "      <td>Super Mario Bros.</td>\n",
       "      <td>NES</td>\n",
       "      <td>1985.0</td>\n",
       "      <td>Platform</td>\n",
       "      <td>Nintendo</td>\n",
       "      <td>29.08</td>\n",
       "      <td>3.58</td>\n",
       "      <td>6.81</td>\n",
       "      <td>0.77</td>\n",
       "      <td>40.24</td>\n",
       "      <td>NaN</td>\n",
       "      <td>NaN</td>\n",
       "      <td>NaN</td>\n",
       "      <td>NaN</td>\n",
       "      <td>NaN</td>\n",
       "      <td>NaN</td>\n",
       "    </tr>\n",
       "    <tr>\n",
       "      <th>2</th>\n",
       "      <td>3</td>\n",
       "      <td>Mario Kart Wii</td>\n",
       "      <td>Wii</td>\n",
       "      <td>2008.0</td>\n",
       "      <td>Racing</td>\n",
       "      <td>Nintendo</td>\n",
       "      <td>15.68</td>\n",
       "      <td>12.76</td>\n",
       "      <td>3.79</td>\n",
       "      <td>3.29</td>\n",
       "      <td>35.52</td>\n",
       "      <td>82.0</td>\n",
       "      <td>73.0</td>\n",
       "      <td>8.3</td>\n",
       "      <td>709.0</td>\n",
       "      <td>Nintendo</td>\n",
       "      <td>E</td>\n",
       "    </tr>\n",
       "    <tr>\n",
       "      <th>3</th>\n",
       "      <td>4</td>\n",
       "      <td>Wii Sports Resort</td>\n",
       "      <td>Wii</td>\n",
       "      <td>2009.0</td>\n",
       "      <td>Sports</td>\n",
       "      <td>Nintendo</td>\n",
       "      <td>15.61</td>\n",
       "      <td>10.93</td>\n",
       "      <td>3.28</td>\n",
       "      <td>2.95</td>\n",
       "      <td>32.77</td>\n",
       "      <td>80.0</td>\n",
       "      <td>73.0</td>\n",
       "      <td>8</td>\n",
       "      <td>192.0</td>\n",
       "      <td>Nintendo</td>\n",
       "      <td>E</td>\n",
       "    </tr>\n",
       "    <tr>\n",
       "      <th>4</th>\n",
       "      <td>5</td>\n",
       "      <td>Pokemon Red/Pokemon Blue</td>\n",
       "      <td>GB</td>\n",
       "      <td>1996.0</td>\n",
       "      <td>Role-Playing</td>\n",
       "      <td>Nintendo</td>\n",
       "      <td>11.27</td>\n",
       "      <td>8.89</td>\n",
       "      <td>10.22</td>\n",
       "      <td>1.00</td>\n",
       "      <td>31.37</td>\n",
       "      <td>NaN</td>\n",
       "      <td>NaN</td>\n",
       "      <td>NaN</td>\n",
       "      <td>NaN</td>\n",
       "      <td>NaN</td>\n",
       "      <td>NaN</td>\n",
       "    </tr>\n",
       "  </tbody>\n",
       "</table>\n",
       "</div>"
      ],
      "text/plain": [
       "   Unnamed: 0                      Name Platform  Year_of_Release  \\\n",
       "0           1                Wii Sports      Wii           2006.0   \n",
       "1           2         Super Mario Bros.      NES           1985.0   \n",
       "2           3            Mario Kart Wii      Wii           2008.0   \n",
       "3           4         Wii Sports Resort      Wii           2009.0   \n",
       "4           5  Pokemon Red/Pokemon Blue       GB           1996.0   \n",
       "\n",
       "          Genre Publisher  NA_players  EU_players  JP_players  Other_players  \\\n",
       "0        Sports  Nintendo       41.36       28.96        3.77           8.45   \n",
       "1      Platform  Nintendo       29.08        3.58        6.81           0.77   \n",
       "2        Racing  Nintendo       15.68       12.76        3.79           3.29   \n",
       "3        Sports  Nintendo       15.61       10.93        3.28           2.95   \n",
       "4  Role-Playing  Nintendo       11.27        8.89       10.22           1.00   \n",
       "\n",
       "   Global_players  Critic_Score  Critic_Count User_Score  User_Count  \\\n",
       "0           82.53          76.0          51.0          8       322.0   \n",
       "1           40.24           NaN           NaN        NaN         NaN   \n",
       "2           35.52          82.0          73.0        8.3       709.0   \n",
       "3           32.77          80.0          73.0          8       192.0   \n",
       "4           31.37           NaN           NaN        NaN         NaN   \n",
       "\n",
       "  Developer Rating  \n",
       "0  Nintendo      E  \n",
       "1       NaN    NaN  \n",
       "2  Nintendo      E  \n",
       "3  Nintendo      E  \n",
       "4       NaN    NaN  "
      ]
     },
     "execution_count": 11,
     "metadata": {},
     "output_type": "execute_result"
    }
   ],
   "source": [
    "video_game_df.head()"
   ]
  },
  {
   "cell_type": "code",
   "execution_count": 12,
   "metadata": {},
   "outputs": [
    {
     "data": {
      "text/html": [
       "<div>\n",
       "<style scoped>\n",
       "    .dataframe tbody tr th:only-of-type {\n",
       "        vertical-align: middle;\n",
       "    }\n",
       "\n",
       "    .dataframe tbody tr th {\n",
       "        vertical-align: top;\n",
       "    }\n",
       "\n",
       "    .dataframe thead th {\n",
       "        text-align: right;\n",
       "    }\n",
       "</style>\n",
       "<table border=\"1\" class=\"dataframe\">\n",
       "  <thead>\n",
       "    <tr style=\"text-align: right;\">\n",
       "      <th></th>\n",
       "      <th>Rank</th>\n",
       "      <th>Name</th>\n",
       "      <th>Platform</th>\n",
       "      <th>Year</th>\n",
       "      <th>Genre</th>\n",
       "      <th>Publisher</th>\n",
       "      <th>NA_Sales</th>\n",
       "      <th>EU_Sales</th>\n",
       "      <th>JP_Sales</th>\n",
       "      <th>Other_Sales</th>\n",
       "      <th>Global_Sales</th>\n",
       "    </tr>\n",
       "  </thead>\n",
       "  <tbody>\n",
       "    <tr>\n",
       "      <th>0</th>\n",
       "      <td>1</td>\n",
       "      <td>Wii Sports</td>\n",
       "      <td>Wii</td>\n",
       "      <td>2006.0</td>\n",
       "      <td>Sports</td>\n",
       "      <td>Nintendo</td>\n",
       "      <td>41.49</td>\n",
       "      <td>29.02</td>\n",
       "      <td>3.77</td>\n",
       "      <td>8.46</td>\n",
       "      <td>82.74</td>\n",
       "    </tr>\n",
       "    <tr>\n",
       "      <th>1</th>\n",
       "      <td>2</td>\n",
       "      <td>Super Mario Bros.</td>\n",
       "      <td>NES</td>\n",
       "      <td>1985.0</td>\n",
       "      <td>Platform</td>\n",
       "      <td>Nintendo</td>\n",
       "      <td>29.08</td>\n",
       "      <td>3.58</td>\n",
       "      <td>6.81</td>\n",
       "      <td>0.77</td>\n",
       "      <td>40.24</td>\n",
       "    </tr>\n",
       "    <tr>\n",
       "      <th>2</th>\n",
       "      <td>3</td>\n",
       "      <td>Mario Kart Wii</td>\n",
       "      <td>Wii</td>\n",
       "      <td>2008.0</td>\n",
       "      <td>Racing</td>\n",
       "      <td>Nintendo</td>\n",
       "      <td>15.85</td>\n",
       "      <td>12.88</td>\n",
       "      <td>3.79</td>\n",
       "      <td>3.31</td>\n",
       "      <td>35.82</td>\n",
       "    </tr>\n",
       "    <tr>\n",
       "      <th>3</th>\n",
       "      <td>4</td>\n",
       "      <td>Wii Sports Resort</td>\n",
       "      <td>Wii</td>\n",
       "      <td>2009.0</td>\n",
       "      <td>Sports</td>\n",
       "      <td>Nintendo</td>\n",
       "      <td>15.75</td>\n",
       "      <td>11.01</td>\n",
       "      <td>3.28</td>\n",
       "      <td>2.96</td>\n",
       "      <td>33.00</td>\n",
       "    </tr>\n",
       "    <tr>\n",
       "      <th>4</th>\n",
       "      <td>5</td>\n",
       "      <td>Pokemon Red/Pokemon Blue</td>\n",
       "      <td>GB</td>\n",
       "      <td>1996.0</td>\n",
       "      <td>Role-Playing</td>\n",
       "      <td>Nintendo</td>\n",
       "      <td>11.27</td>\n",
       "      <td>8.89</td>\n",
       "      <td>10.22</td>\n",
       "      <td>1.00</td>\n",
       "      <td>31.37</td>\n",
       "    </tr>\n",
       "  </tbody>\n",
       "</table>\n",
       "</div>"
      ],
      "text/plain": [
       "   Rank                      Name Platform    Year         Genre Publisher  \\\n",
       "0     1                Wii Sports      Wii  2006.0        Sports  Nintendo   \n",
       "1     2         Super Mario Bros.      NES  1985.0      Platform  Nintendo   \n",
       "2     3            Mario Kart Wii      Wii  2008.0        Racing  Nintendo   \n",
       "3     4         Wii Sports Resort      Wii  2009.0        Sports  Nintendo   \n",
       "4     5  Pokemon Red/Pokemon Blue       GB  1996.0  Role-Playing  Nintendo   \n",
       "\n",
       "   NA_Sales  EU_Sales  JP_Sales  Other_Sales  Global_Sales  \n",
       "0     41.49     29.02      3.77         8.46         82.74  \n",
       "1     29.08      3.58      6.81         0.77         40.24  \n",
       "2     15.85     12.88      3.79         3.31         35.82  \n",
       "3     15.75     11.01      3.28         2.96         33.00  \n",
       "4     11.27      8.89     10.22         1.00         31.37  "
      ]
     },
     "execution_count": 12,
     "metadata": {},
     "output_type": "execute_result"
    }
   ],
   "source": [
    "video_game_sales_df.head()"
   ]
  },
  {
   "cell_type": "code",
   "execution_count": 13,
   "metadata": {},
   "outputs": [
    {
     "data": {
      "text/html": [
       "<div>\n",
       "<style scoped>\n",
       "    .dataframe tbody tr th:only-of-type {\n",
       "        vertical-align: middle;\n",
       "    }\n",
       "\n",
       "    .dataframe tbody tr th {\n",
       "        vertical-align: top;\n",
       "    }\n",
       "\n",
       "    .dataframe thead th {\n",
       "        text-align: right;\n",
       "    }\n",
       "</style>\n",
       "<table border=\"1\" class=\"dataframe\">\n",
       "  <thead>\n",
       "    <tr style=\"text-align: right;\">\n",
       "      <th></th>\n",
       "      <th>Rank</th>\n",
       "      <th>Name</th>\n",
       "      <th>Platform</th>\n",
       "      <th>Year</th>\n",
       "      <th>Genre</th>\n",
       "      <th>Publisher</th>\n",
       "      <th>NA_Sales</th>\n",
       "      <th>EU_Sales</th>\n",
       "      <th>JP_Sales</th>\n",
       "      <th>Other_Sales</th>\n",
       "      <th>Global_Sales</th>\n",
       "      <th>NA+EU</th>\n",
       "    </tr>\n",
       "  </thead>\n",
       "  <tbody>\n",
       "    <tr>\n",
       "      <th>0</th>\n",
       "      <td>1</td>\n",
       "      <td>Wii Sports</td>\n",
       "      <td>Wii</td>\n",
       "      <td>2006.0</td>\n",
       "      <td>Sports</td>\n",
       "      <td>Nintendo</td>\n",
       "      <td>41.49</td>\n",
       "      <td>29.02</td>\n",
       "      <td>3.77</td>\n",
       "      <td>8.46</td>\n",
       "      <td>82.74</td>\n",
       "      <td>70.51</td>\n",
       "    </tr>\n",
       "    <tr>\n",
       "      <th>1</th>\n",
       "      <td>2</td>\n",
       "      <td>Super Mario Bros.</td>\n",
       "      <td>NES</td>\n",
       "      <td>1985.0</td>\n",
       "      <td>Platform</td>\n",
       "      <td>Nintendo</td>\n",
       "      <td>29.08</td>\n",
       "      <td>3.58</td>\n",
       "      <td>6.81</td>\n",
       "      <td>0.77</td>\n",
       "      <td>40.24</td>\n",
       "      <td>32.66</td>\n",
       "    </tr>\n",
       "    <tr>\n",
       "      <th>2</th>\n",
       "      <td>3</td>\n",
       "      <td>Mario Kart Wii</td>\n",
       "      <td>Wii</td>\n",
       "      <td>2008.0</td>\n",
       "      <td>Racing</td>\n",
       "      <td>Nintendo</td>\n",
       "      <td>15.85</td>\n",
       "      <td>12.88</td>\n",
       "      <td>3.79</td>\n",
       "      <td>3.31</td>\n",
       "      <td>35.82</td>\n",
       "      <td>28.73</td>\n",
       "    </tr>\n",
       "    <tr>\n",
       "      <th>3</th>\n",
       "      <td>4</td>\n",
       "      <td>Wii Sports Resort</td>\n",
       "      <td>Wii</td>\n",
       "      <td>2009.0</td>\n",
       "      <td>Sports</td>\n",
       "      <td>Nintendo</td>\n",
       "      <td>15.75</td>\n",
       "      <td>11.01</td>\n",
       "      <td>3.28</td>\n",
       "      <td>2.96</td>\n",
       "      <td>33.00</td>\n",
       "      <td>26.76</td>\n",
       "    </tr>\n",
       "    <tr>\n",
       "      <th>4</th>\n",
       "      <td>5</td>\n",
       "      <td>Pokemon Red/Pokemon Blue</td>\n",
       "      <td>GB</td>\n",
       "      <td>1996.0</td>\n",
       "      <td>Role-Playing</td>\n",
       "      <td>Nintendo</td>\n",
       "      <td>11.27</td>\n",
       "      <td>8.89</td>\n",
       "      <td>10.22</td>\n",
       "      <td>1.00</td>\n",
       "      <td>31.37</td>\n",
       "      <td>20.16</td>\n",
       "    </tr>\n",
       "  </tbody>\n",
       "</table>\n",
       "</div>"
      ],
      "text/plain": [
       "   Rank                      Name Platform    Year         Genre Publisher  \\\n",
       "0     1                Wii Sports      Wii  2006.0        Sports  Nintendo   \n",
       "1     2         Super Mario Bros.      NES  1985.0      Platform  Nintendo   \n",
       "2     3            Mario Kart Wii      Wii  2008.0        Racing  Nintendo   \n",
       "3     4         Wii Sports Resort      Wii  2009.0        Sports  Nintendo   \n",
       "4     5  Pokemon Red/Pokemon Blue       GB  1996.0  Role-Playing  Nintendo   \n",
       "\n",
       "   NA_Sales  EU_Sales  JP_Sales  Other_Sales  Global_Sales  NA+EU  \n",
       "0     41.49     29.02      3.77         8.46         82.74  70.51  \n",
       "1     29.08      3.58      6.81         0.77         40.24  32.66  \n",
       "2     15.85     12.88      3.79         3.31         35.82  28.73  \n",
       "3     15.75     11.01      3.28         2.96         33.00  26.76  \n",
       "4     11.27      8.89     10.22         1.00         31.37  20.16  "
      ]
     },
     "execution_count": 13,
     "metadata": {},
     "output_type": "execute_result"
    }
   ],
   "source": [
    "# add EU and NA sales together to a new column since we are looking both NA and EU at the same time in our youtube dataset\n",
    "\n",
    "video_game_sales_df[\"NA+EU\"] = video_game_sales_df.apply(lambda x: x['NA_Sales']+ x[\"EU_Sales\"], axis=1)\n",
    "video_game_sales_df.head()"
   ]
  },
  {
   "cell_type": "code",
   "execution_count": 14,
   "metadata": {},
   "outputs": [],
   "source": [
    "# Select game and entertainment video genres from youtube dataset since these genres will have game content related to gaming consoles.\n",
    "gameGenre = youtube_GL_df.loc[youtube_GL_df['category_id'] == 20]\n",
    "entertainmentGenre = youtube_GL_df.loc[youtube_GL_df['category_id'] == 24]\n",
    "youtube = gameGenre.append(entertainmentGenre)"
   ]
  },
  {
   "cell_type": "code",
   "execution_count": 15,
   "metadata": {},
   "outputs": [
    {
     "data": {
      "text/html": [
       "<div>\n",
       "<style scoped>\n",
       "    .dataframe tbody tr th:only-of-type {\n",
       "        vertical-align: middle;\n",
       "    }\n",
       "\n",
       "    .dataframe tbody tr th {\n",
       "        vertical-align: top;\n",
       "    }\n",
       "\n",
       "    .dataframe thead th {\n",
       "        text-align: right;\n",
       "    }\n",
       "</style>\n",
       "<table border=\"1\" class=\"dataframe\">\n",
       "  <thead>\n",
       "    <tr style=\"text-align: right;\">\n",
       "      <th></th>\n",
       "      <th>Unnamed: 0</th>\n",
       "      <th>Name</th>\n",
       "      <th>Platform</th>\n",
       "      <th>Year_of_Release</th>\n",
       "      <th>Genre</th>\n",
       "      <th>Publisher</th>\n",
       "      <th>NA_players</th>\n",
       "      <th>EU_players</th>\n",
       "      <th>JP_players</th>\n",
       "      <th>Other_players</th>\n",
       "      <th>Global_players</th>\n",
       "      <th>Critic_Score</th>\n",
       "      <th>Critic_Count</th>\n",
       "      <th>User_Score</th>\n",
       "      <th>User_Count</th>\n",
       "      <th>Developer</th>\n",
       "      <th>Rating</th>\n",
       "    </tr>\n",
       "  </thead>\n",
       "  <tbody>\n",
       "    <tr>\n",
       "      <th>2710</th>\n",
       "      <td>2711</td>\n",
       "      <td>Mario &amp; Luigi: Paper Jam</td>\n",
       "      <td>3DS</td>\n",
       "      <td>2015.0</td>\n",
       "      <td>Role-Playing</td>\n",
       "      <td>Nintendo</td>\n",
       "      <td>0.16</td>\n",
       "      <td>0.29</td>\n",
       "      <td>0.26</td>\n",
       "      <td>0.04</td>\n",
       "      <td>0.76</td>\n",
       "      <td>NaN</td>\n",
       "      <td>NaN</td>\n",
       "      <td>NaN</td>\n",
       "      <td>NaN</td>\n",
       "      <td>NaN</td>\n",
       "      <td>NaN</td>\n",
       "    </tr>\n",
       "    <tr>\n",
       "      <th>13516</th>\n",
       "      <td>13517</td>\n",
       "      <td>Monster High: New Ghoul in School</td>\n",
       "      <td>3DS</td>\n",
       "      <td>2015.0</td>\n",
       "      <td>Action</td>\n",
       "      <td>Little Orbit</td>\n",
       "      <td>0.00</td>\n",
       "      <td>0.04</td>\n",
       "      <td>0.00</td>\n",
       "      <td>0.00</td>\n",
       "      <td>0.04</td>\n",
       "      <td>NaN</td>\n",
       "      <td>NaN</td>\n",
       "      <td>tbd</td>\n",
       "      <td>NaN</td>\n",
       "      <td>Torus Games, Little Orbit</td>\n",
       "      <td>E</td>\n",
       "    </tr>\n",
       "    <tr>\n",
       "      <th>2717</th>\n",
       "      <td>2718</td>\n",
       "      <td>Nintendo Presents: New Style Boutique 2 - Fash...</td>\n",
       "      <td>3DS</td>\n",
       "      <td>2015.0</td>\n",
       "      <td>Misc</td>\n",
       "      <td>Nintendo</td>\n",
       "      <td>0.03</td>\n",
       "      <td>0.66</td>\n",
       "      <td>0.02</td>\n",
       "      <td>0.04</td>\n",
       "      <td>0.75</td>\n",
       "      <td>NaN</td>\n",
       "      <td>NaN</td>\n",
       "      <td>NaN</td>\n",
       "      <td>NaN</td>\n",
       "      <td>NaN</td>\n",
       "      <td>NaN</td>\n",
       "    </tr>\n",
       "    <tr>\n",
       "      <th>9168</th>\n",
       "      <td>9169</td>\n",
       "      <td>Monster Hunter Diary: Poka Poka Airou Village DX</td>\n",
       "      <td>3DS</td>\n",
       "      <td>2015.0</td>\n",
       "      <td>Action</td>\n",
       "      <td>Capcom</td>\n",
       "      <td>0.00</td>\n",
       "      <td>0.00</td>\n",
       "      <td>0.14</td>\n",
       "      <td>0.00</td>\n",
       "      <td>0.14</td>\n",
       "      <td>NaN</td>\n",
       "      <td>NaN</td>\n",
       "      <td>NaN</td>\n",
       "      <td>NaN</td>\n",
       "      <td>NaN</td>\n",
       "      <td>NaN</td>\n",
       "    </tr>\n",
       "    <tr>\n",
       "      <th>10080</th>\n",
       "      <td>10081</td>\n",
       "      <td>Super Run For Money Tousouchuu Atsumare! Saiky...</td>\n",
       "      <td>3DS</td>\n",
       "      <td>2015.0</td>\n",
       "      <td>Action</td>\n",
       "      <td>Namco Bandai Games</td>\n",
       "      <td>0.00</td>\n",
       "      <td>0.00</td>\n",
       "      <td>0.11</td>\n",
       "      <td>0.00</td>\n",
       "      <td>0.11</td>\n",
       "      <td>NaN</td>\n",
       "      <td>NaN</td>\n",
       "      <td>NaN</td>\n",
       "      <td>NaN</td>\n",
       "      <td>NaN</td>\n",
       "      <td>NaN</td>\n",
       "    </tr>\n",
       "  </tbody>\n",
       "</table>\n",
       "</div>"
      ],
      "text/plain": [
       "       Unnamed: 0                                               Name Platform  \\\n",
       "2710         2711                           Mario & Luigi: Paper Jam      3DS   \n",
       "13516       13517                  Monster High: New Ghoul in School      3DS   \n",
       "2717         2718  Nintendo Presents: New Style Boutique 2 - Fash...      3DS   \n",
       "9168         9169   Monster Hunter Diary: Poka Poka Airou Village DX      3DS   \n",
       "10080       10081  Super Run For Money Tousouchuu Atsumare! Saiky...      3DS   \n",
       "\n",
       "       Year_of_Release         Genre           Publisher  NA_players  \\\n",
       "2710            2015.0  Role-Playing            Nintendo        0.16   \n",
       "13516           2015.0        Action        Little Orbit        0.00   \n",
       "2717            2015.0          Misc            Nintendo        0.03   \n",
       "9168            2015.0        Action              Capcom        0.00   \n",
       "10080           2015.0        Action  Namco Bandai Games        0.00   \n",
       "\n",
       "       EU_players  JP_players  Other_players  Global_players  Critic_Score  \\\n",
       "2710         0.29        0.26           0.04            0.76           NaN   \n",
       "13516        0.04        0.00           0.00            0.04           NaN   \n",
       "2717         0.66        0.02           0.04            0.75           NaN   \n",
       "9168         0.00        0.14           0.00            0.14           NaN   \n",
       "10080        0.00        0.11           0.00            0.11           NaN   \n",
       "\n",
       "       Critic_Count User_Score  User_Count                  Developer Rating  \n",
       "2710            NaN        NaN         NaN                        NaN    NaN  \n",
       "13516           NaN        tbd         NaN  Torus Games, Little Orbit      E  \n",
       "2717            NaN        NaN         NaN                        NaN    NaN  \n",
       "9168            NaN        NaN         NaN                        NaN    NaN  \n",
       "10080           NaN        NaN         NaN                        NaN    NaN  "
      ]
     },
     "execution_count": 15,
     "metadata": {},
     "output_type": "execute_result"
    }
   ],
   "source": [
    "#Generate lists for most popular consoles which will help us to identify which videos have related tags to these consoles.\n",
    "video_game_df = video_game_df.sort_values(\"Platform\")\n",
    "video_game_df = video_game_df.loc[video_game_df['Year_of_Release'] >= 2015]\n",
    "\n",
    "video_game_sales_df = video_game_sales_df.sort_values(\"Platform\")\n",
    "video_game_sales_df = video_game_sales_df.loc[video_game_sales_df['Year'] >= 2015]\n",
    "\n",
    "microsoft = [\"PC\",\"XBOX360\",\"XOne\",\"X360\", \"XBOXONE\",\"steam\",\"origin\",\"microsoft store\", \"uplay\", \"fortnite\", \"pubg\", \"pc game\", \"game\"]\n",
    "sony = [\"PSP\", \"PSV\", \"PS1\", \"PS2\", \"PS3\", \"PS4\", \"fortnite\", \"pubg\", \"game\"]\n",
    "nintendo = [\"GC\",\"GB\",\"GBA\", \"DS\", \"3DS\", \"Wii\", \"WiiU\", \"Nintendo Switch\", \"Switch\", \"fortnite\", \"pubg\", \"game\", \"NES\"]\n",
    "\n",
    "def generateLists(platform, item):\n",
    "    if platform in [\"X360\", \"XOne\", \"PC\"]:\n",
    "        microsoft.append(item)\n",
    "    elif platform in [\"PS3\", \"PS4\", \"PSP\", \"PS1\"]:\n",
    "        sony.append(item)\n",
    "    elif platform in [\"GC\", \"DS\", \"3DS\", \"Wii\", \"WiiU\", \"NES\"]:\n",
    "        nintendo.append(item)\n",
    "\n",
    "video_game_df.apply(lambda x: generateLists(x['Platform'], x[\"Name\"]), axis=1)\n",
    "video_game_df.head()"
   ]
  },
  {
   "cell_type": "code",
   "execution_count": 16,
   "metadata": {},
   "outputs": [],
   "source": [
    "def checkPlatformTags(item):\n",
    "    if item in microsoft:\n",
    "        return \"Microsoft\"\n",
    "    if item in sony:\n",
    "        return \"Sony\"\n",
    "    if item in nintendo:\n",
    "        return \"Nintendo\"\n",
    "    return \"Others\""
   ]
  },
  {
   "cell_type": "code",
   "execution_count": 17,
   "metadata": {},
   "outputs": [
    {
     "data": {
      "text/html": [
       "<div>\n",
       "<style scoped>\n",
       "    .dataframe tbody tr th:only-of-type {\n",
       "        vertical-align: middle;\n",
       "    }\n",
       "\n",
       "    .dataframe tbody tr th {\n",
       "        vertical-align: top;\n",
       "    }\n",
       "\n",
       "    .dataframe thead th {\n",
       "        text-align: right;\n",
       "    }\n",
       "</style>\n",
       "<table border=\"1\" class=\"dataframe\">\n",
       "  <thead>\n",
       "    <tr style=\"text-align: right;\">\n",
       "      <th></th>\n",
       "      <th>Rank</th>\n",
       "      <th>Name</th>\n",
       "      <th>Platform</th>\n",
       "      <th>Year</th>\n",
       "      <th>Genre</th>\n",
       "      <th>Publisher</th>\n",
       "      <th>NA_Sales</th>\n",
       "      <th>EU_Sales</th>\n",
       "      <th>JP_Sales</th>\n",
       "      <th>Other_Sales</th>\n",
       "      <th>Global_Sales</th>\n",
       "      <th>NA+EU</th>\n",
       "      <th>plt</th>\n",
       "    </tr>\n",
       "  </thead>\n",
       "  <tbody>\n",
       "    <tr>\n",
       "      <th>12887</th>\n",
       "      <td>12889</td>\n",
       "      <td>Goosebumps: The Game</td>\n",
       "      <td>3DS</td>\n",
       "      <td>2015.0</td>\n",
       "      <td>Adventure</td>\n",
       "      <td>WayForward Technologies</td>\n",
       "      <td>0.05</td>\n",
       "      <td>0.00</td>\n",
       "      <td>0.00</td>\n",
       "      <td>0.01</td>\n",
       "      <td>0.05</td>\n",
       "      <td>0.05</td>\n",
       "      <td>Nintendo</td>\n",
       "    </tr>\n",
       "    <tr>\n",
       "      <th>6390</th>\n",
       "      <td>6392</td>\n",
       "      <td>Ace Attorney 6</td>\n",
       "      <td>3DS</td>\n",
       "      <td>2016.0</td>\n",
       "      <td>Adventure</td>\n",
       "      <td>Capcom</td>\n",
       "      <td>0.00</td>\n",
       "      <td>0.00</td>\n",
       "      <td>0.27</td>\n",
       "      <td>0.00</td>\n",
       "      <td>0.27</td>\n",
       "      <td>0.00</td>\n",
       "      <td>Nintendo</td>\n",
       "    </tr>\n",
       "    <tr>\n",
       "      <th>14477</th>\n",
       "      <td>14480</td>\n",
       "      <td>Shantae and the Pirate's Curse</td>\n",
       "      <td>3DS</td>\n",
       "      <td>2015.0</td>\n",
       "      <td>Platform</td>\n",
       "      <td>Intergrow</td>\n",
       "      <td>0.00</td>\n",
       "      <td>0.00</td>\n",
       "      <td>0.03</td>\n",
       "      <td>0.00</td>\n",
       "      <td>0.03</td>\n",
       "      <td>0.00</td>\n",
       "      <td>Nintendo</td>\n",
       "    </tr>\n",
       "    <tr>\n",
       "      <th>14467</th>\n",
       "      <td>14470</td>\n",
       "      <td>Langrisser: Re:Incarnation Tensei</td>\n",
       "      <td>3DS</td>\n",
       "      <td>2015.0</td>\n",
       "      <td>Role-Playing</td>\n",
       "      <td>Extreme Entertainment Group</td>\n",
       "      <td>0.02</td>\n",
       "      <td>0.00</td>\n",
       "      <td>0.01</td>\n",
       "      <td>0.00</td>\n",
       "      <td>0.03</td>\n",
       "      <td>0.02</td>\n",
       "      <td>Nintendo</td>\n",
       "    </tr>\n",
       "    <tr>\n",
       "      <th>1850</th>\n",
       "      <td>1852</td>\n",
       "      <td>The Legend of Zelda: Tri Force Heroes</td>\n",
       "      <td>3DS</td>\n",
       "      <td>2015.0</td>\n",
       "      <td>Action</td>\n",
       "      <td>Nintendo</td>\n",
       "      <td>0.52</td>\n",
       "      <td>0.33</td>\n",
       "      <td>0.17</td>\n",
       "      <td>0.08</td>\n",
       "      <td>1.10</td>\n",
       "      <td>0.85</td>\n",
       "      <td>Nintendo</td>\n",
       "    </tr>\n",
       "  </tbody>\n",
       "</table>\n",
       "</div>"
      ],
      "text/plain": [
       "        Rank                                   Name Platform    Year  \\\n",
       "12887  12889                   Goosebumps: The Game      3DS  2015.0   \n",
       "6390    6392                         Ace Attorney 6      3DS  2016.0   \n",
       "14477  14480         Shantae and the Pirate's Curse      3DS  2015.0   \n",
       "14467  14470      Langrisser: Re:Incarnation Tensei      3DS  2015.0   \n",
       "1850    1852  The Legend of Zelda: Tri Force Heroes      3DS  2015.0   \n",
       "\n",
       "              Genre                    Publisher  NA_Sales  EU_Sales  \\\n",
       "12887     Adventure      WayForward Technologies      0.05      0.00   \n",
       "6390      Adventure                       Capcom      0.00      0.00   \n",
       "14477      Platform                    Intergrow      0.00      0.00   \n",
       "14467  Role-Playing  Extreme Entertainment Group      0.02      0.00   \n",
       "1850         Action                     Nintendo      0.52      0.33   \n",
       "\n",
       "       JP_Sales  Other_Sales  Global_Sales  NA+EU       plt  \n",
       "12887      0.00         0.01          0.05   0.05  Nintendo  \n",
       "6390       0.27         0.00          0.27   0.00  Nintendo  \n",
       "14477      0.03         0.00          0.03   0.00  Nintendo  \n",
       "14467      0.01         0.00          0.03   0.02  Nintendo  \n",
       "1850       0.17         0.08          1.10   0.85  Nintendo  "
      ]
     },
     "execution_count": 17,
     "metadata": {},
     "output_type": "execute_result"
    }
   ],
   "source": [
    "video_game_sales_df['plt'] = video_game_sales_df.apply(lambda x: checkPlatformTags(x['Platform']), axis=1)\n",
    "\n",
    "video_game_sales_df.head()"
   ]
  },
  {
   "cell_type": "code",
   "execution_count": 18,
   "metadata": {},
   "outputs": [],
   "source": [
    "#check tags for each video to decide which console they belong and create a column to specify that console\n",
    "def checkGameTags(tag):\n",
    "    tags = tag.split(\"|\")\n",
    "    for item in tags:\n",
    "        if item in microsoft:\n",
    "            return \"Microsoft\"\n",
    "        if item in sony:\n",
    "            return \"Sony\"\n",
    "        if item in nintendo:\n",
    "            return \"Nintendo\"\n",
    "        return \"Others\""
   ]
  },
  {
   "cell_type": "code",
   "execution_count": 19,
   "metadata": {
    "scrolled": true
   },
   "outputs": [
    {
     "data": {
      "text/html": [
       "<div>\n",
       "<style scoped>\n",
       "    .dataframe tbody tr th:only-of-type {\n",
       "        vertical-align: middle;\n",
       "    }\n",
       "\n",
       "    .dataframe tbody tr th {\n",
       "        vertical-align: top;\n",
       "    }\n",
       "\n",
       "    .dataframe thead th {\n",
       "        text-align: right;\n",
       "    }\n",
       "</style>\n",
       "<table border=\"1\" class=\"dataframe\">\n",
       "  <thead>\n",
       "    <tr style=\"text-align: right;\">\n",
       "      <th></th>\n",
       "      <th>video_id</th>\n",
       "      <th>trending_date</th>\n",
       "      <th>title</th>\n",
       "      <th>channel_title</th>\n",
       "      <th>category_id</th>\n",
       "      <th>publish_time</th>\n",
       "      <th>tags</th>\n",
       "      <th>views</th>\n",
       "      <th>likes</th>\n",
       "      <th>dislikes</th>\n",
       "      <th>comment_count</th>\n",
       "      <th>thumbnail_link</th>\n",
       "      <th>comments_disabled</th>\n",
       "      <th>ratings_disabled</th>\n",
       "      <th>video_error_or_removed</th>\n",
       "      <th>description</th>\n",
       "      <th>platform</th>\n",
       "    </tr>\n",
       "  </thead>\n",
       "  <tbody>\n",
       "    <tr>\n",
       "      <th>29350</th>\n",
       "      <td>sq4hYZlDPec</td>\n",
       "      <td>18.18.04</td>\n",
       "      <td>Game Theory: Will the Fortnite Meteor Destroy ...</td>\n",
       "      <td>The Game Theorists</td>\n",
       "      <td>20</td>\n",
       "      <td>2018-04-17T19:11:23.000Z</td>\n",
       "      <td>fortnite|\"fortnite meteor\"|\"tilted towers\"|\"fo...</td>\n",
       "      <td>1871511</td>\n",
       "      <td>78816</td>\n",
       "      <td>4779</td>\n",
       "      <td>23398</td>\n",
       "      <td>https://i.ytimg.com/vi/sq4hYZlDPec/default.jpg</td>\n",
       "      <td>False</td>\n",
       "      <td>False</td>\n",
       "      <td>False</td>\n",
       "      <td>Subscribe to never miss a theory! ► http://bit...</td>\n",
       "      <td>Microsoft</td>\n",
       "    </tr>\n",
       "    <tr>\n",
       "      <th>29555</th>\n",
       "      <td>sq4hYZlDPec</td>\n",
       "      <td>18.19.04</td>\n",
       "      <td>Game Theory: Will the Fortnite Meteor Destroy ...</td>\n",
       "      <td>The Game Theorists</td>\n",
       "      <td>20</td>\n",
       "      <td>2018-04-17T19:11:23.000Z</td>\n",
       "      <td>fortnite|\"fortnite meteor\"|\"tilted towers\"|\"fo...</td>\n",
       "      <td>3552278</td>\n",
       "      <td>118304</td>\n",
       "      <td>9769</td>\n",
       "      <td>34208</td>\n",
       "      <td>https://i.ytimg.com/vi/sq4hYZlDPec/default.jpg</td>\n",
       "      <td>False</td>\n",
       "      <td>False</td>\n",
       "      <td>False</td>\n",
       "      <td>Subscribe to never miss a theory! ► http://bit...</td>\n",
       "      <td>Microsoft</td>\n",
       "    </tr>\n",
       "    <tr>\n",
       "      <th>29763</th>\n",
       "      <td>sq4hYZlDPec</td>\n",
       "      <td>18.20.04</td>\n",
       "      <td>Game Theory: Will the Fortnite Meteor Destroy ...</td>\n",
       "      <td>The Game Theorists</td>\n",
       "      <td>20</td>\n",
       "      <td>2018-04-17T19:11:23.000Z</td>\n",
       "      <td>fortnite|\"fortnite meteor\"|\"tilted towers\"|\"fo...</td>\n",
       "      <td>3918780</td>\n",
       "      <td>124732</td>\n",
       "      <td>10817</td>\n",
       "      <td>36224</td>\n",
       "      <td>https://i.ytimg.com/vi/sq4hYZlDPec/default.jpg</td>\n",
       "      <td>False</td>\n",
       "      <td>False</td>\n",
       "      <td>False</td>\n",
       "      <td>Subscribe to never miss a theory! ► http://bit...</td>\n",
       "      <td>Microsoft</td>\n",
       "    </tr>\n",
       "    <tr>\n",
       "      <th>29987</th>\n",
       "      <td>sq4hYZlDPec</td>\n",
       "      <td>18.21.04</td>\n",
       "      <td>Game Theory: Will the Fortnite Meteor Destroy ...</td>\n",
       "      <td>The Game Theorists</td>\n",
       "      <td>20</td>\n",
       "      <td>2018-04-17T19:11:23.000Z</td>\n",
       "      <td>fortnite|\"fortnite meteor\"|\"tilted towers\"|\"fo...</td>\n",
       "      <td>4242693</td>\n",
       "      <td>129303</td>\n",
       "      <td>11528</td>\n",
       "      <td>37763</td>\n",
       "      <td>https://i.ytimg.com/vi/sq4hYZlDPec/default.jpg</td>\n",
       "      <td>False</td>\n",
       "      <td>False</td>\n",
       "      <td>False</td>\n",
       "      <td>Subscribe to never miss a theory! ► http://bit...</td>\n",
       "      <td>Microsoft</td>\n",
       "    </tr>\n",
       "    <tr>\n",
       "      <th>30207</th>\n",
       "      <td>sq4hYZlDPec</td>\n",
       "      <td>18.22.04</td>\n",
       "      <td>Game Theory: Will the Fortnite Meteor Destroy ...</td>\n",
       "      <td>The Game Theorists</td>\n",
       "      <td>20</td>\n",
       "      <td>2018-04-17T19:11:23.000Z</td>\n",
       "      <td>fortnite|\"fortnite meteor\"|\"tilted towers\"|\"fo...</td>\n",
       "      <td>4532652</td>\n",
       "      <td>132867</td>\n",
       "      <td>12065</td>\n",
       "      <td>38751</td>\n",
       "      <td>https://i.ytimg.com/vi/sq4hYZlDPec/default.jpg</td>\n",
       "      <td>False</td>\n",
       "      <td>False</td>\n",
       "      <td>False</td>\n",
       "      <td>Subscribe to never miss a theory! ► http://bit...</td>\n",
       "      <td>Microsoft</td>\n",
       "    </tr>\n",
       "  </tbody>\n",
       "</table>\n",
       "</div>"
      ],
      "text/plain": [
       "          video_id trending_date  \\\n",
       "29350  sq4hYZlDPec      18.18.04   \n",
       "29555  sq4hYZlDPec      18.19.04   \n",
       "29763  sq4hYZlDPec      18.20.04   \n",
       "29987  sq4hYZlDPec      18.21.04   \n",
       "30207  sq4hYZlDPec      18.22.04   \n",
       "\n",
       "                                                   title       channel_title  \\\n",
       "29350  Game Theory: Will the Fortnite Meteor Destroy ...  The Game Theorists   \n",
       "29555  Game Theory: Will the Fortnite Meteor Destroy ...  The Game Theorists   \n",
       "29763  Game Theory: Will the Fortnite Meteor Destroy ...  The Game Theorists   \n",
       "29987  Game Theory: Will the Fortnite Meteor Destroy ...  The Game Theorists   \n",
       "30207  Game Theory: Will the Fortnite Meteor Destroy ...  The Game Theorists   \n",
       "\n",
       "       category_id              publish_time  \\\n",
       "29350           20  2018-04-17T19:11:23.000Z   \n",
       "29555           20  2018-04-17T19:11:23.000Z   \n",
       "29763           20  2018-04-17T19:11:23.000Z   \n",
       "29987           20  2018-04-17T19:11:23.000Z   \n",
       "30207           20  2018-04-17T19:11:23.000Z   \n",
       "\n",
       "                                                    tags    views   likes  \\\n",
       "29350  fortnite|\"fortnite meteor\"|\"tilted towers\"|\"fo...  1871511   78816   \n",
       "29555  fortnite|\"fortnite meteor\"|\"tilted towers\"|\"fo...  3552278  118304   \n",
       "29763  fortnite|\"fortnite meteor\"|\"tilted towers\"|\"fo...  3918780  124732   \n",
       "29987  fortnite|\"fortnite meteor\"|\"tilted towers\"|\"fo...  4242693  129303   \n",
       "30207  fortnite|\"fortnite meteor\"|\"tilted towers\"|\"fo...  4532652  132867   \n",
       "\n",
       "       dislikes  comment_count  \\\n",
       "29350      4779          23398   \n",
       "29555      9769          34208   \n",
       "29763     10817          36224   \n",
       "29987     11528          37763   \n",
       "30207     12065          38751   \n",
       "\n",
       "                                       thumbnail_link  comments_disabled  \\\n",
       "29350  https://i.ytimg.com/vi/sq4hYZlDPec/default.jpg              False   \n",
       "29555  https://i.ytimg.com/vi/sq4hYZlDPec/default.jpg              False   \n",
       "29763  https://i.ytimg.com/vi/sq4hYZlDPec/default.jpg              False   \n",
       "29987  https://i.ytimg.com/vi/sq4hYZlDPec/default.jpg              False   \n",
       "30207  https://i.ytimg.com/vi/sq4hYZlDPec/default.jpg              False   \n",
       "\n",
       "       ratings_disabled  video_error_or_removed  \\\n",
       "29350             False                   False   \n",
       "29555             False                   False   \n",
       "29763             False                   False   \n",
       "29987             False                   False   \n",
       "30207             False                   False   \n",
       "\n",
       "                                             description   platform  \n",
       "29350  Subscribe to never miss a theory! ► http://bit...  Microsoft  \n",
       "29555  Subscribe to never miss a theory! ► http://bit...  Microsoft  \n",
       "29763  Subscribe to never miss a theory! ► http://bit...  Microsoft  \n",
       "29987  Subscribe to never miss a theory! ► http://bit...  Microsoft  \n",
       "30207  Subscribe to never miss a theory! ► http://bit...  Microsoft  "
      ]
     },
     "execution_count": 19,
     "metadata": {},
     "output_type": "execute_result"
    }
   ],
   "source": [
    "youtube['platform'] = youtube.apply(lambda x: checkGameTags(x['tags']), axis=1)\n",
    "youtube_platform = youtube.loc[youtube[\"platform\"] != \"Others\"]\n",
    "youtube_platform.head()\n"
   ]
  },
  {
   "cell_type": "code",
   "execution_count": 20,
   "metadata": {},
   "outputs": [
    {
     "data": {
      "text/html": [
       "<div>\n",
       "<style scoped>\n",
       "    .dataframe tbody tr th:only-of-type {\n",
       "        vertical-align: middle;\n",
       "    }\n",
       "\n",
       "    .dataframe tbody tr th {\n",
       "        vertical-align: top;\n",
       "    }\n",
       "\n",
       "    .dataframe thead th {\n",
       "        text-align: right;\n",
       "    }\n",
       "</style>\n",
       "<table border=\"1\" class=\"dataframe\">\n",
       "  <thead>\n",
       "    <tr style=\"text-align: right;\">\n",
       "      <th></th>\n",
       "      <th>category_id</th>\n",
       "      <th>views</th>\n",
       "      <th>likes</th>\n",
       "      <th>dislikes</th>\n",
       "      <th>comment_count</th>\n",
       "      <th>comments_disabled</th>\n",
       "      <th>ratings_disabled</th>\n",
       "      <th>video_error_or_removed</th>\n",
       "    </tr>\n",
       "    <tr>\n",
       "      <th>platform</th>\n",
       "      <th></th>\n",
       "      <th></th>\n",
       "      <th></th>\n",
       "      <th></th>\n",
       "      <th></th>\n",
       "      <th></th>\n",
       "      <th></th>\n",
       "      <th></th>\n",
       "    </tr>\n",
       "  </thead>\n",
       "  <tbody>\n",
       "    <tr>\n",
       "      <th>Microsoft</th>\n",
       "      <td>20.25641</td>\n",
       "      <td>1.352806e+06</td>\n",
       "      <td>35635.096154</td>\n",
       "      <td>3603.096154</td>\n",
       "      <td>8293.897436</td>\n",
       "      <td>0.147436</td>\n",
       "      <td>0.0</td>\n",
       "      <td>0.0</td>\n",
       "    </tr>\n",
       "    <tr>\n",
       "      <th>Nintendo</th>\n",
       "      <td>20.00000</td>\n",
       "      <td>1.860930e+05</td>\n",
       "      <td>8663.818182</td>\n",
       "      <td>170.000000</td>\n",
       "      <td>1153.272727</td>\n",
       "      <td>0.000000</td>\n",
       "      <td>0.0</td>\n",
       "      <td>0.0</td>\n",
       "    </tr>\n",
       "    <tr>\n",
       "      <th>Sony</th>\n",
       "      <td>20.00000</td>\n",
       "      <td>6.922187e+05</td>\n",
       "      <td>41345.333333</td>\n",
       "      <td>671.000000</td>\n",
       "      <td>5484.666667</td>\n",
       "      <td>0.000000</td>\n",
       "      <td>0.0</td>\n",
       "      <td>0.0</td>\n",
       "    </tr>\n",
       "  </tbody>\n",
       "</table>\n",
       "</div>"
      ],
      "text/plain": [
       "           category_id         views         likes     dislikes  \\\n",
       "platform                                                          \n",
       "Microsoft     20.25641  1.352806e+06  35635.096154  3603.096154   \n",
       "Nintendo      20.00000  1.860930e+05   8663.818182   170.000000   \n",
       "Sony          20.00000  6.922187e+05  41345.333333   671.000000   \n",
       "\n",
       "           comment_count  comments_disabled  ratings_disabled  \\\n",
       "platform                                                        \n",
       "Microsoft    8293.897436           0.147436               0.0   \n",
       "Nintendo     1153.272727           0.000000               0.0   \n",
       "Sony         5484.666667           0.000000               0.0   \n",
       "\n",
       "           video_error_or_removed  \n",
       "platform                           \n",
       "Microsoft                     0.0  \n",
       "Nintendo                      0.0  \n",
       "Sony                          0.0  "
      ]
     },
     "execution_count": 20,
     "metadata": {},
     "output_type": "execute_result"
    }
   ],
   "source": [
    "#take average view for each console\n",
    "ytTotal = youtube_platform.groupby(by = \"platform\")\n",
    "salesTotal = video_game_sales_df.groupby(by = \"plt\")\n",
    "\n",
    "avg = ytTotal.mean()\n",
    "avg2 = salesTotal.mean()\n",
    "avg"
   ]
  },
  {
   "cell_type": "code",
   "execution_count": 21,
   "metadata": {},
   "outputs": [
    {
     "data": {
      "text/html": [
       "<div>\n",
       "<style scoped>\n",
       "    .dataframe tbody tr th:only-of-type {\n",
       "        vertical-align: middle;\n",
       "    }\n",
       "\n",
       "    .dataframe tbody tr th {\n",
       "        vertical-align: top;\n",
       "    }\n",
       "\n",
       "    .dataframe thead th {\n",
       "        text-align: right;\n",
       "    }\n",
       "</style>\n",
       "<table border=\"1\" class=\"dataframe\">\n",
       "  <thead>\n",
       "    <tr style=\"text-align: right;\">\n",
       "      <th></th>\n",
       "      <th>Rank</th>\n",
       "      <th>Year</th>\n",
       "      <th>NA_Sales</th>\n",
       "      <th>EU_Sales</th>\n",
       "      <th>JP_Sales</th>\n",
       "      <th>Other_Sales</th>\n",
       "      <th>Global_Sales</th>\n",
       "      <th>NA+EU</th>\n",
       "    </tr>\n",
       "    <tr>\n",
       "      <th>plt</th>\n",
       "      <th></th>\n",
       "      <th></th>\n",
       "      <th></th>\n",
       "      <th></th>\n",
       "      <th></th>\n",
       "      <th></th>\n",
       "      <th></th>\n",
       "      <th></th>\n",
       "    </tr>\n",
       "  </thead>\n",
       "  <tbody>\n",
       "    <tr>\n",
       "      <th>Microsoft</th>\n",
       "      <td>9983.438662</td>\n",
       "      <td>2015.371747</td>\n",
       "      <td>0.191413</td>\n",
       "      <td>0.128810</td>\n",
       "      <td>0.000669</td>\n",
       "      <td>0.030520</td>\n",
       "      <td>0.351599</td>\n",
       "      <td>320223.048327</td>\n",
       "    </tr>\n",
       "    <tr>\n",
       "      <th>Nintendo</th>\n",
       "      <td>9749.609756</td>\n",
       "      <td>2015.304878</td>\n",
       "      <td>0.096037</td>\n",
       "      <td>0.073780</td>\n",
       "      <td>0.148659</td>\n",
       "      <td>0.017012</td>\n",
       "      <td>0.335976</td>\n",
       "      <td>169817.073171</td>\n",
       "    </tr>\n",
       "    <tr>\n",
       "      <th>Sony</th>\n",
       "      <td>10805.412098</td>\n",
       "      <td>2015.387524</td>\n",
       "      <td>0.110605</td>\n",
       "      <td>0.146919</td>\n",
       "      <td>0.043308</td>\n",
       "      <td>0.050624</td>\n",
       "      <td>0.351664</td>\n",
       "      <td>257523.629490</td>\n",
       "    </tr>\n",
       "  </tbody>\n",
       "</table>\n",
       "</div>"
      ],
      "text/plain": [
       "                   Rank         Year  NA_Sales  EU_Sales  JP_Sales  \\\n",
       "plt                                                                  \n",
       "Microsoft   9983.438662  2015.371747  0.191413  0.128810  0.000669   \n",
       "Nintendo    9749.609756  2015.304878  0.096037  0.073780  0.148659   \n",
       "Sony       10805.412098  2015.387524  0.110605  0.146919  0.043308   \n",
       "\n",
       "           Other_Sales  Global_Sales          NA+EU  \n",
       "plt                                                  \n",
       "Microsoft     0.030520      0.351599  320223.048327  \n",
       "Nintendo      0.017012      0.335976  169817.073171  \n",
       "Sony          0.050624      0.351664  257523.629490  "
      ]
     },
     "execution_count": 21,
     "metadata": {},
     "output_type": "execute_result"
    }
   ],
   "source": [
    "avg2['NA+EU'] = avg2.apply(lambda x: x['NA+EU']*1000000, axis=1) # because sales were in millions I wanted make the graph clear \n",
    "avg2\n"
   ]
  },
  {
   "cell_type": "code",
   "execution_count": 22,
   "metadata": {},
   "outputs": [
    {
     "data": {
      "text/html": [
       "<div>\n",
       "<style scoped>\n",
       "    .dataframe tbody tr th:only-of-type {\n",
       "        vertical-align: middle;\n",
       "    }\n",
       "\n",
       "    .dataframe tbody tr th {\n",
       "        vertical-align: top;\n",
       "    }\n",
       "\n",
       "    .dataframe thead th {\n",
       "        text-align: right;\n",
       "    }\n",
       "</style>\n",
       "<table border=\"1\" class=\"dataframe\">\n",
       "  <thead>\n",
       "    <tr style=\"text-align: right;\">\n",
       "      <th></th>\n",
       "      <th>Rank</th>\n",
       "      <th>Year</th>\n",
       "      <th>NA_Sales</th>\n",
       "      <th>EU_Sales</th>\n",
       "      <th>JP_Sales</th>\n",
       "      <th>Other_Sales</th>\n",
       "      <th>Global_Sales</th>\n",
       "      <th>NA+EU</th>\n",
       "    </tr>\n",
       "    <tr>\n",
       "      <th>Genre</th>\n",
       "      <th></th>\n",
       "      <th></th>\n",
       "      <th></th>\n",
       "      <th></th>\n",
       "      <th></th>\n",
       "      <th></th>\n",
       "      <th></th>\n",
       "      <th></th>\n",
       "    </tr>\n",
       "  </thead>\n",
       "  <tbody>\n",
       "    <tr>\n",
       "      <th>Action</th>\n",
       "      <td>10942.741333</td>\n",
       "      <td>2015.322667</td>\n",
       "      <td>0.076533</td>\n",
       "      <td>0.082693</td>\n",
       "      <td>0.057733</td>\n",
       "      <td>0.024427</td>\n",
       "      <td>0.241653</td>\n",
       "      <td>1.592267e+05</td>\n",
       "    </tr>\n",
       "    <tr>\n",
       "      <th>Adventure</th>\n",
       "      <td>13195.784091</td>\n",
       "      <td>2015.386364</td>\n",
       "      <td>0.035227</td>\n",
       "      <td>0.042841</td>\n",
       "      <td>0.022841</td>\n",
       "      <td>0.010909</td>\n",
       "      <td>0.111818</td>\n",
       "      <td>7.806818e+04</td>\n",
       "    </tr>\n",
       "    <tr>\n",
       "      <th>Fighting</th>\n",
       "      <td>9499.428571</td>\n",
       "      <td>2015.400000</td>\n",
       "      <td>0.148571</td>\n",
       "      <td>0.100857</td>\n",
       "      <td>0.040857</td>\n",
       "      <td>0.042000</td>\n",
       "      <td>0.332571</td>\n",
       "      <td>2.494286e+05</td>\n",
       "    </tr>\n",
       "    <tr>\n",
       "      <th>Misc</th>\n",
       "      <td>10278.614035</td>\n",
       "      <td>2015.315789</td>\n",
       "      <td>0.088246</td>\n",
       "      <td>0.066667</td>\n",
       "      <td>0.051053</td>\n",
       "      <td>0.018772</td>\n",
       "      <td>0.225614</td>\n",
       "      <td>1.549123e+05</td>\n",
       "    </tr>\n",
       "    <tr>\n",
       "      <th>Platform</th>\n",
       "      <td>10131.041667</td>\n",
       "      <td>2015.416667</td>\n",
       "      <td>0.137083</td>\n",
       "      <td>0.111667</td>\n",
       "      <td>0.058333</td>\n",
       "      <td>0.031667</td>\n",
       "      <td>0.338333</td>\n",
       "      <td>2.487500e+05</td>\n",
       "    </tr>\n",
       "    <tr>\n",
       "      <th>Puzzle</th>\n",
       "      <td>12127.833333</td>\n",
       "      <td>2015.000000</td>\n",
       "      <td>0.008333</td>\n",
       "      <td>0.018333</td>\n",
       "      <td>0.086667</td>\n",
       "      <td>0.001667</td>\n",
       "      <td>0.116667</td>\n",
       "      <td>2.666667e+04</td>\n",
       "    </tr>\n",
       "    <tr>\n",
       "      <th>Racing</th>\n",
       "      <td>10955.948718</td>\n",
       "      <td>2015.512821</td>\n",
       "      <td>0.058974</td>\n",
       "      <td>0.150769</td>\n",
       "      <td>0.007436</td>\n",
       "      <td>0.028718</td>\n",
       "      <td>0.245128</td>\n",
       "      <td>2.097436e+05</td>\n",
       "    </tr>\n",
       "    <tr>\n",
       "      <th>Role-Playing</th>\n",
       "      <td>9692.908333</td>\n",
       "      <td>2015.366667</td>\n",
       "      <td>0.122833</td>\n",
       "      <td>0.115083</td>\n",
       "      <td>0.086500</td>\n",
       "      <td>0.035750</td>\n",
       "      <td>0.360333</td>\n",
       "      <td>2.379167e+05</td>\n",
       "    </tr>\n",
       "    <tr>\n",
       "      <th>Shooter</th>\n",
       "      <td>6140.833333</td>\n",
       "      <td>2015.484848</td>\n",
       "      <td>0.579242</td>\n",
       "      <td>0.483788</td>\n",
       "      <td>0.050000</td>\n",
       "      <td>0.164091</td>\n",
       "      <td>1.278333</td>\n",
       "      <td>1.063030e+06</td>\n",
       "    </tr>\n",
       "    <tr>\n",
       "      <th>Simulation</th>\n",
       "      <td>10792.600000</td>\n",
       "      <td>2015.560000</td>\n",
       "      <td>0.056000</td>\n",
       "      <td>0.104000</td>\n",
       "      <td>0.075200</td>\n",
       "      <td>0.016400</td>\n",
       "      <td>0.252000</td>\n",
       "      <td>1.600000e+05</td>\n",
       "    </tr>\n",
       "    <tr>\n",
       "      <th>Sports</th>\n",
       "      <td>8896.700000</td>\n",
       "      <td>2015.380000</td>\n",
       "      <td>0.230300</td>\n",
       "      <td>0.240500</td>\n",
       "      <td>0.015000</td>\n",
       "      <td>0.075400</td>\n",
       "      <td>0.561400</td>\n",
       "      <td>4.708000e+05</td>\n",
       "    </tr>\n",
       "    <tr>\n",
       "      <th>Strategy</th>\n",
       "      <td>12826.037037</td>\n",
       "      <td>2015.370370</td>\n",
       "      <td>0.025185</td>\n",
       "      <td>0.048148</td>\n",
       "      <td>0.007407</td>\n",
       "      <td>0.005926</td>\n",
       "      <td>0.085926</td>\n",
       "      <td>7.333333e+04</td>\n",
       "    </tr>\n",
       "  </tbody>\n",
       "</table>\n",
       "</div>"
      ],
      "text/plain": [
       "                      Rank         Year  NA_Sales  EU_Sales  JP_Sales  \\\n",
       "Genre                                                                   \n",
       "Action        10942.741333  2015.322667  0.076533  0.082693  0.057733   \n",
       "Adventure     13195.784091  2015.386364  0.035227  0.042841  0.022841   \n",
       "Fighting       9499.428571  2015.400000  0.148571  0.100857  0.040857   \n",
       "Misc          10278.614035  2015.315789  0.088246  0.066667  0.051053   \n",
       "Platform      10131.041667  2015.416667  0.137083  0.111667  0.058333   \n",
       "Puzzle        12127.833333  2015.000000  0.008333  0.018333  0.086667   \n",
       "Racing        10955.948718  2015.512821  0.058974  0.150769  0.007436   \n",
       "Role-Playing   9692.908333  2015.366667  0.122833  0.115083  0.086500   \n",
       "Shooter        6140.833333  2015.484848  0.579242  0.483788  0.050000   \n",
       "Simulation    10792.600000  2015.560000  0.056000  0.104000  0.075200   \n",
       "Sports         8896.700000  2015.380000  0.230300  0.240500  0.015000   \n",
       "Strategy      12826.037037  2015.370370  0.025185  0.048148  0.007407   \n",
       "\n",
       "              Other_Sales  Global_Sales         NA+EU  \n",
       "Genre                                                  \n",
       "Action           0.024427      0.241653  1.592267e+05  \n",
       "Adventure        0.010909      0.111818  7.806818e+04  \n",
       "Fighting         0.042000      0.332571  2.494286e+05  \n",
       "Misc             0.018772      0.225614  1.549123e+05  \n",
       "Platform         0.031667      0.338333  2.487500e+05  \n",
       "Puzzle           0.001667      0.116667  2.666667e+04  \n",
       "Racing           0.028718      0.245128  2.097436e+05  \n",
       "Role-Playing     0.035750      0.360333  2.379167e+05  \n",
       "Shooter          0.164091      1.278333  1.063030e+06  \n",
       "Simulation       0.016400      0.252000  1.600000e+05  \n",
       "Sports           0.075400      0.561400  4.708000e+05  \n",
       "Strategy         0.005926      0.085926  7.333333e+04  "
      ]
     },
     "execution_count": 22,
     "metadata": {},
     "output_type": "execute_result"
    }
   ],
   "source": [
    "a = video_game_sales_df.groupby(by = \"Genre\")\n",
    "avg3 = a.mean()\n",
    "avg3['NA+EU'] = avg3.apply(lambda x: x['NA+EU']*1000000, axis=1)\n",
    "avg3"
   ]
  },
  {
   "cell_type": "code",
   "execution_count": 23,
   "metadata": {},
   "outputs": [
    {
     "data": {
      "image/png": "[encoded data removed]",
      "text/plain": [
       "<Figure size 432x288 with 1 Axes>"
      ]
     },
     "metadata": {
      "needs_background": "light"
     },
     "output_type": "display_data"
    },
    {
     "data": {
      "image/png": "[encoded data removed]",
      "text/plain": [
       "<Figure size 432x288 with 1 Axes>"
      ]
     },
     "metadata": {
      "needs_background": "light"
     },
     "output_type": "display_data"
    },
    {
     "data": {
      "image/png": "[encoded data removed]",
      "text/plain": [
       "<Figure size 432x288 with 1 Axes>"
      ]
     },
     "metadata": {
      "needs_background": "light"
     },
     "output_type": "display_data"
    },
    {
     "data": {
      "image/png": "[encoded data removed]",
      "text/plain": [
       "<Figure size 432x288 with 1 Axes>"
      ]
     },
     "metadata": {
      "needs_background": "light"
     },
     "output_type": "display_data"
    }
   ],
   "source": [
    "#plot views vs console sales\n",
    "ax = avg.views.plot(kind=\"bar\", color = \"orange\", rot = 45)\n",
    "plt.ylabel(\"Average Trending Views\")\n",
    "plt.title(\"Views vs Gaming Consoles\")\n",
    "plt.show()\n",
    "\n",
    "ax = avg2['NA+EU'].plot(kind=\"bar\", color = \"orange\", rot = 45)\n",
    "plt.ylabel(\"Average Sales\")\n",
    "plt.title(\"Sales vs Gaming Consoles\")\n",
    "plt.show()\n",
    "\n",
    "ax = avg3['NA+EU'].plot(kind=\"bar\", color = \"orange\", rot = 45)\n",
    "plt.ylabel(\"Genre\")\n",
    "plt.title(\"Genre vs Game Amount\")\n",
    "plt.show()\n",
    "\n",
    "ax = avg['likes'].plot(kind=\"bar\", color = \"orange\", rot = 45)\n",
    "plt.ylabel(\"User Likes\")\n",
    "plt.title(\"User Likes vs Gaming Consoles\")\n",
    "plt.show()"
   ]
  },
  {
   "cell_type": "raw",
   "metadata": {},
   "source": [
    "Does trending youtube videos have effect on gaming console sales?\n",
    "\n",
    "Null hypothesis: trending Youtube videos have no effect on game console sales"
   ]
  },
  {
   "cell_type": "code",
   "execution_count": 24,
   "metadata": {},
   "outputs": [
    {
     "data": {
      "image/png": "[encoded data removed]",
      "text/plain": [
       "<Figure size 720x720 with 1 Axes>"
      ]
     },
     "metadata": {
      "needs_background": "light"
     },
     "output_type": "display_data"
    }
   ],
   "source": [
    "mic = video_game_sales_df[video_game_sales_df[\"plt\"] == \"Microsoft\"][\"NA+EU\"]\n",
    "son = video_game_sales_df[video_game_sales_df[\"plt\"] == \"Sony\"][\"NA+EU\"]\n",
    "nin = video_game_sales_df[video_game_sales_df[\"plt\"] == \"Nintendo\"][\"NA+EU\"]\n",
    "\n",
    "\n",
    "fig, ax = plt.subplots(1,1, figsize=(10,10))\n",
    "\n",
    "sns.kdeplot(mic, shade=True, ax=ax, label=\"Microsoft\")\n",
    "sns.kdeplot(son, shade=True, ax=ax, label=\"Sony\")\n",
    "sns.kdeplot(nin, shade=True, ax=ax, label=\"Nintendo\")\n",
    "\n",
    "\n",
    "plt.title(\"View by Sales\")\n",
    "plt.show()"
   ]
  },
  {
   "cell_type": "raw",
   "metadata": {},
   "source": [
    "Does the genre of a game have an distinct effect on its sale for a specific console ?\n",
    "\n",
    "Null hypothesis:  genre of a game has an effect on its sale for a specific console"
   ]
  },
  {
   "cell_type": "code",
   "execution_count": 25,
   "metadata": {},
   "outputs": [
    {
     "data": {
      "image/png": "[encoded data removed]",
      "text/plain": [
       "<Figure size 720x720 with 1 Axes>"
      ]
     },
     "metadata": {
      "needs_background": "light"
     },
     "output_type": "display_data"
    }
   ],
   "source": [
    "Action = video_game_sales_df[video_game_sales_df[\"Genre\"] == \"Action\"][\"NA+EU\"]\n",
    "Adventure = video_game_sales_df[video_game_sales_df[\"Genre\"] == \"Adventure\"][\"NA+EU\"]\n",
    "Fighting = video_game_sales_df[video_game_sales_df[\"Genre\"] == \"Fighting\"][\"NA+EU\"]\n",
    "Misc = video_game_sales_df[video_game_sales_df[\"Genre\"] == \"Misc\"][\"NA+EU\"]\n",
    "Platform = video_game_sales_df[video_game_sales_df[\"Genre\"] == \"Platform\"][\"NA+EU\"]\n",
    "Puzzle = video_game_sales_df[video_game_sales_df[\"Genre\"] == \"Puzzle\"][\"NA+EU\"]\n",
    "Racing = video_game_sales_df[video_game_sales_df[\"Genre\"] == \"Racing\"][\"NA+EU\"]\n",
    "Role_Playing = video_game_sales_df[video_game_sales_df[\"Genre\"] == \"Role-Playing\"][\"NA+EU\"]\n",
    "Shooter = video_game_sales_df[video_game_sales_df[\"Genre\"] == \"Shooter\"][\"NA+EU\"]\n",
    "Simulation = video_game_sales_df[video_game_sales_df[\"Genre\"] == \"Simulation\"][\"NA+EU\"]\n",
    "Sports = video_game_sales_df[video_game_sales_df[\"Genre\"] == \"Sports\"][\"NA+EU\"]\n",
    "Strategy = video_game_sales_df[video_game_sales_df[\"Genre\"] == \"Strategy\"][\"NA+EU\"]\n",
    "\n",
    "fig, ax = plt.subplots(1,1, figsize=(10,10))\n",
    "\n",
    "sns.kdeplot(Action, shade=True, ax=ax, label=\"Action\")\n",
    "sns.kdeplot(Adventure, shade=True, ax=ax, label=\"Adventure\")\n",
    "sns.kdeplot(Fighting, shade=True, ax=ax, label=\"Fighting\")\n",
    "sns.kdeplot(Misc, shade=True, ax=ax, label=\"Misc\")\n",
    "sns.kdeplot(Platform, shade=True, ax=ax, label=\"Platform\")\n",
    "sns.kdeplot(Puzzle, shade=True, ax=ax, label=\"Puzzle\")\n",
    "sns.kdeplot(Racing, shade=True, ax=ax, label=\"Racing\")\n",
    "sns.kdeplot(Role_Playing, shade=True, ax=ax, label=\"Role-Playing\")\n",
    "sns.kdeplot(Shooter, shade=True, ax=ax, label=\"Shooter\")\n",
    "sns.kdeplot(Simulation, shade=True, ax=ax, label=\"Simulation\")\n",
    "sns.kdeplot(Sports , shade=True, ax=ax, label=\"Sports \")\n",
    "sns.kdeplot(Strategy, shade=True, ax=ax, label=\"Strategy\")\n",
    "\n",
    "plt.title(\"View by Sales\")\n",
    "plt.show()"
   ]
  },
  {
   "cell_type": "raw",
   "metadata": {},
   "source": [
    "Does the platform specific video's user reviews have an effect on gaming console sales?\n",
    "\n",
    "Null hypothesis: platform specific video's user reviews have an effect on gaming console sales"
   ]
  },
  {
   "cell_type": "code",
   "execution_count": 26,
   "metadata": {},
   "outputs": [
    {
     "data": {
      "image/png": "[encoded data removed]",
      "text/plain": [
       "<Figure size 720x720 with 1 Axes>"
      ]
     },
     "metadata": {
      "needs_background": "light"
     },
     "output_type": "display_data"
    }
   ],
   "source": [
    "mic = youtube_platform[youtube_platform[\"platform\"] == \"Microsoft\"][\"likes\"]\n",
    "son = youtube_platform[youtube_platform[\"platform\"] == \"Sony\"][\"likes\"]\n",
    "nin = youtube_platform[youtube_platform[\"platform\"] == \"Nintendo\"][\"likes\"]\n",
    "\n",
    "\n",
    "fig, ax = plt.subplots(1,1, figsize=(10,10))\n",
    "\n",
    "sns.kdeplot(mic, shade=True, ax=ax, label=\"Microsoft\")\n",
    "sns.kdeplot(son, shade=True, ax=ax, label=\"Sony\")\n",
    "sns.kdeplot(nin, shade=True, ax=ax, label=\"Nintendo\")\n",
    "\n",
    "\n",
    "plt.title(\"View by Sales\")\n",
    "plt.show()"
   ]
  },
  {
   "cell_type": "markdown",
   "metadata": {},
   "source": [
    "# Linear Regression for Hypothesis 1"
   ]
  },
  {
   "cell_type": "code",
   "execution_count": 27,
   "metadata": {},
   "outputs": [
    {
     "data": {
      "text/html": [
       "<div>\n",
       "<style scoped>\n",
       "    .dataframe tbody tr th:only-of-type {\n",
       "        vertical-align: middle;\n",
       "    }\n",
       "\n",
       "    .dataframe tbody tr th {\n",
       "        vertical-align: top;\n",
       "    }\n",
       "\n",
       "    .dataframe thead th {\n",
       "        text-align: right;\n",
       "    }\n",
       "</style>\n",
       "<table border=\"1\" class=\"dataframe\">\n",
       "  <thead>\n",
       "    <tr style=\"text-align: right;\">\n",
       "      <th></th>\n",
       "      <th>Rank</th>\n",
       "      <th>Name</th>\n",
       "      <th>Platform</th>\n",
       "      <th>Year</th>\n",
       "      <th>Genre</th>\n",
       "      <th>Publisher</th>\n",
       "      <th>NA_Sales</th>\n",
       "      <th>EU_Sales</th>\n",
       "      <th>JP_Sales</th>\n",
       "      <th>Other_Sales</th>\n",
       "      <th>Global_Sales</th>\n",
       "      <th>NA+EU</th>\n",
       "      <th>plt</th>\n",
       "    </tr>\n",
       "  </thead>\n",
       "  <tbody>\n",
       "    <tr>\n",
       "      <th>12887</th>\n",
       "      <td>12889</td>\n",
       "      <td>Goosebumps: The Game</td>\n",
       "      <td>3DS</td>\n",
       "      <td>2015.0</td>\n",
       "      <td>Adventure</td>\n",
       "      <td>WayForward Technologies</td>\n",
       "      <td>0.05</td>\n",
       "      <td>0.00</td>\n",
       "      <td>0.00</td>\n",
       "      <td>0.01</td>\n",
       "      <td>0.05</td>\n",
       "      <td>0.05</td>\n",
       "      <td>3</td>\n",
       "    </tr>\n",
       "    <tr>\n",
       "      <th>6390</th>\n",
       "      <td>6392</td>\n",
       "      <td>Ace Attorney 6</td>\n",
       "      <td>3DS</td>\n",
       "      <td>2016.0</td>\n",
       "      <td>Adventure</td>\n",
       "      <td>Capcom</td>\n",
       "      <td>0.00</td>\n",
       "      <td>0.00</td>\n",
       "      <td>0.27</td>\n",
       "      <td>0.00</td>\n",
       "      <td>0.27</td>\n",
       "      <td>0.00</td>\n",
       "      <td>3</td>\n",
       "    </tr>\n",
       "    <tr>\n",
       "      <th>14477</th>\n",
       "      <td>14480</td>\n",
       "      <td>Shantae and the Pirate's Curse</td>\n",
       "      <td>3DS</td>\n",
       "      <td>2015.0</td>\n",
       "      <td>Platform</td>\n",
       "      <td>Intergrow</td>\n",
       "      <td>0.00</td>\n",
       "      <td>0.00</td>\n",
       "      <td>0.03</td>\n",
       "      <td>0.00</td>\n",
       "      <td>0.03</td>\n",
       "      <td>0.00</td>\n",
       "      <td>3</td>\n",
       "    </tr>\n",
       "    <tr>\n",
       "      <th>14467</th>\n",
       "      <td>14470</td>\n",
       "      <td>Langrisser: Re:Incarnation Tensei</td>\n",
       "      <td>3DS</td>\n",
       "      <td>2015.0</td>\n",
       "      <td>Role-Playing</td>\n",
       "      <td>Extreme Entertainment Group</td>\n",
       "      <td>0.02</td>\n",
       "      <td>0.00</td>\n",
       "      <td>0.01</td>\n",
       "      <td>0.00</td>\n",
       "      <td>0.03</td>\n",
       "      <td>0.02</td>\n",
       "      <td>3</td>\n",
       "    </tr>\n",
       "    <tr>\n",
       "      <th>1850</th>\n",
       "      <td>1852</td>\n",
       "      <td>The Legend of Zelda: Tri Force Heroes</td>\n",
       "      <td>3DS</td>\n",
       "      <td>2015.0</td>\n",
       "      <td>Action</td>\n",
       "      <td>Nintendo</td>\n",
       "      <td>0.52</td>\n",
       "      <td>0.33</td>\n",
       "      <td>0.17</td>\n",
       "      <td>0.08</td>\n",
       "      <td>1.10</td>\n",
       "      <td>0.85</td>\n",
       "      <td>3</td>\n",
       "    </tr>\n",
       "  </tbody>\n",
       "</table>\n",
       "</div>"
      ],
      "text/plain": [
       "        Rank                                   Name Platform    Year  \\\n",
       "12887  12889                   Goosebumps: The Game      3DS  2015.0   \n",
       "6390    6392                         Ace Attorney 6      3DS  2016.0   \n",
       "14477  14480         Shantae and the Pirate's Curse      3DS  2015.0   \n",
       "14467  14470      Langrisser: Re:Incarnation Tensei      3DS  2015.0   \n",
       "1850    1852  The Legend of Zelda: Tri Force Heroes      3DS  2015.0   \n",
       "\n",
       "              Genre                    Publisher  NA_Sales  EU_Sales  \\\n",
       "12887     Adventure      WayForward Technologies      0.05      0.00   \n",
       "6390      Adventure                       Capcom      0.00      0.00   \n",
       "14477      Platform                    Intergrow      0.00      0.00   \n",
       "14467  Role-Playing  Extreme Entertainment Group      0.02      0.00   \n",
       "1850         Action                     Nintendo      0.52      0.33   \n",
       "\n",
       "       JP_Sales  Other_Sales  Global_Sales  NA+EU  plt  \n",
       "12887      0.00         0.01          0.05   0.05    3  \n",
       "6390       0.27         0.00          0.27   0.00    3  \n",
       "14477      0.03         0.00          0.03   0.00    3  \n",
       "14467      0.01         0.00          0.03   0.02    3  \n",
       "1850       0.17         0.08          1.10   0.85    3  "
      ]
     },
     "execution_count": 27,
     "metadata": {},
     "output_type": "execute_result"
    }
   ],
   "source": [
    "#remodeling data\n",
    "\n",
    "def change(x):\n",
    "    if x == \"Microsoft\":\n",
    "        return 1\n",
    "    elif x == \"Sony\":\n",
    "        return 2\n",
    "    elif x == \"Nintendo\":\n",
    "        return 3\n",
    "\n",
    "video_game_sales_df['plt'] = video_game_sales_df.apply(lambda x: change(x['plt']), axis=1)\n",
    "\n",
    "video_game_sales_df.head()"
   ]
  },
  {
   "cell_type": "code",
   "execution_count": 28,
   "metadata": {},
   "outputs": [],
   "source": [
    "lr = linear_model.LinearRegression()"
   ]
  },
  {
   "cell_type": "code",
   "execution_count": 29,
   "metadata": {},
   "outputs": [
    {
     "name": "stdout",
     "output_type": "stream",
     "text": [
      "(577, 1) (577,)\n",
      "(385, 1) (385,)\n"
     ]
    }
   ],
   "source": [
    "x = video_game_sales_df[[\"NA+EU\"]]\n",
    "y = video_game_sales_df[\"plt\"]\n",
    "trainX, testX, trainY, testY = train_test_split(x, y, test_size=0.4, random_state=1)\n",
    "print (trainX.shape, trainY.shape)\n",
    "print (testX.shape, testY.shape)"
   ]
  },
  {
   "cell_type": "code",
   "execution_count": 30,
   "metadata": {},
   "outputs": [
    {
     "data": {
      "text/plain": [
       "LinearRegression(copy_X=True, fit_intercept=True, n_jobs=None,\n",
       "         normalize=False)"
      ]
     },
     "execution_count": 30,
     "metadata": {},
     "output_type": "execute_result"
    }
   ],
   "source": [
    "lr.fit(trainX, trainY)"
   ]
  },
  {
   "cell_type": "code",
   "execution_count": 31,
   "metadata": {},
   "outputs": [
    {
     "data": {
      "text/plain": [
       "array([-0.05694125])"
      ]
     },
     "execution_count": 31,
     "metadata": {},
     "output_type": "execute_result"
    }
   ],
   "source": [
    "lr.coef_"
   ]
  },
  {
   "cell_type": "code",
   "execution_count": 32,
   "metadata": {},
   "outputs": [
    {
     "data": {
      "text/plain": [
       "1.8950667210024865"
      ]
     },
     "execution_count": 32,
     "metadata": {},
     "output_type": "execute_result"
    }
   ],
   "source": [
    "lr.intercept_"
   ]
  },
  {
   "cell_type": "code",
   "execution_count": 33,
   "metadata": {},
   "outputs": [
    {
     "data": {
      "text/plain": [
       "0.0021373723973290293"
      ]
     },
     "execution_count": 33,
     "metadata": {},
     "output_type": "execute_result"
    }
   ],
   "source": [
    "lr.score(testX,testY)"
   ]
  },
  {
   "cell_type": "raw",
   "metadata": {},
   "source": [
    "R^2 is 0.0021373723973290293\n",
    "R^2 is around %0.21 which means that regression is random not a straight line."
   ]
  },
  {
   "cell_type": "code",
   "execution_count": 34,
   "metadata": {},
   "outputs": [
    {
     "name": "stdout",
     "output_type": "stream",
     "text": [
      "0.47335950613765704\n"
     ]
    }
   ],
   "source": [
    "pre_y = lr.predict(testX)\n",
    "\n",
    "meanSE = mean_squared_error(pre_y, testY)\n",
    "\n",
    "print(meanSE)"
   ]
  },
  {
   "cell_type": "raw",
   "metadata": {},
   "source": [
    "We can see that our Mean Squared Error is 0.47335950613765704."
   ]
  },
  {
   "cell_type": "code",
   "execution_count": 35,
   "metadata": {},
   "outputs": [
    {
     "data": {
      "text/plain": [
       "<matplotlib.collections.PathCollection at 0x1a1ef57668>"
      ]
     },
     "execution_count": 35,
     "metadata": {},
     "output_type": "execute_result"
    },
    {
     "data": {
      "image/png": "[encoded data removed]",
      "text/plain": [
       "<Figure size 432x288 with 1 Axes>"
      ]
     },
     "metadata": {
      "needs_background": "light"
     },
     "output_type": "display_data"
    }
   ],
   "source": [
    "predict = lr.predict(testX)\n",
    "plt.scatter(testY, predict)\n",
    "\n",
    "# 1 stands for Microsoft\n",
    "# 2 stands for Sony\n",
    "# 3 stands for Nintendo"
   ]
  },
  {
   "cell_type": "markdown",
   "metadata": {},
   "source": [
    "# k-Nearest Neighbors ML"
   ]
  },
  {
   "cell_type": "code",
   "execution_count": 36,
   "metadata": {},
   "outputs": [],
   "source": [
    "accuracy = []\n",
    "def fillAccuracy():\n",
    "    for k in range (1, 79):\n",
    "        knn = KNeighborsClassifier(n_neighbors = k)\n",
    "        knn.fit(trainX, trainY)\n",
    "        predictionY = knn.predict(testX)\n",
    "        accuracy.append(metrics.accuracy_score(testY, predictionY))"
   ]
  },
  {
   "cell_type": "code",
   "execution_count": 37,
   "metadata": {},
   "outputs": [
    {
     "data": {
      "image/png": "[encoded data removed]",
      "text/plain": [
       "<Figure size 432x288 with 1 Axes>"
      ]
     },
     "metadata": {
      "needs_background": "light"
     },
     "output_type": "display_data"
    }
   ],
   "source": [
    "fillAccuracy()\n",
    "\n",
    "plt.plot(range(1, 79), accuracy, color='black', linestyle='dashed', marker='o',  \n",
    "         markerfacecolor='gray', markersize=10)\n",
    "plt.title('Accuracy vs k')  \n",
    "plt.xlabel('k')  \n",
    "plt.ylabel('Accuracy') \n",
    "plt.show()"
   ]
  },
  {
   "cell_type": "raw",
   "metadata": {},
   "source": [
    "The graph shows that k = 39 has the highest accuracy. Therefore we are gonna use k = 38."
   ]
  },
  {
   "cell_type": "code",
   "execution_count": 38,
   "metadata": {},
   "outputs": [
    {
     "data": {
      "text/plain": [
       "KNeighborsClassifier(algorithm='auto', leaf_size=30, metric='minkowski',\n",
       "           metric_params=None, n_jobs=None, n_neighbors=38, p=2,\n",
       "           weights='uniform')"
      ]
     },
     "execution_count": 38,
     "metadata": {},
     "output_type": "execute_result"
    }
   ],
   "source": [
    "knn = KNeighborsClassifier(n_neighbors=38)\n",
    "knn.fit(trainX, trainY)"
   ]
  },
  {
   "cell_type": "code",
   "execution_count": 39,
   "metadata": {},
   "outputs": [
    {
     "name": "stdout",
     "output_type": "stream",
     "text": [
      "0.5454545454545454\n"
     ]
    }
   ],
   "source": [
    "predictionY = knn.predict(testX)\n",
    "print(metrics.accuracy_score(testY, predictionY))"
   ]
  },
  {
   "cell_type": "raw",
   "metadata": {},
   "source": [
    "Accuracy according the chosen k = 0.5454545454545454."
   ]
  },
  {
   "cell_type": "markdown",
   "metadata": {},
   "source": [
    "# Normalization of Data According to K-NN"
   ]
  },
  {
   "cell_type": "code",
   "execution_count": 40,
   "metadata": {},
   "outputs": [],
   "source": [
    "norm = video_game_sales_df[[\"NA+EU\",\"plt\"]]\n",
    "normalized = (norm-norm.mean()) / norm.std() #Normalizing the data\n",
    "normalizedX = normalized[[\"NA+EU\"]]\n",
    "y = video_game_sales_df[\"plt\"]\n",
    "trainX, testX, trainY, testY = train_test_split(normalizedX, y, test_size= 0.25, random_state = 1)\n",
    "knn = KNeighborsClassifier(n_neighbors=30)\n",
    "knn.fit(trainX, trainY)\n",
    "predictionY = knn.predict(testX)"
   ]
  },
  {
   "cell_type": "code",
   "execution_count": 41,
   "metadata": {},
   "outputs": [
    {
     "data": {
      "image/png": "[encoded data removed]",
      "text/plain": [
       "<Figure size 432x288 with 1 Axes>"
      ]
     },
     "metadata": {
      "needs_background": "light"
     },
     "output_type": "display_data"
    },
    {
     "name": "stdout",
     "output_type": "stream",
     "text": [
      "0.6180622315624129\n"
     ]
    }
   ],
   "source": [
    "accuracy = []\n",
    "\n",
    "for k in range (1, 79):\n",
    "    knn = KNeighborsRegressor(n_neighbors = k)\n",
    "    knn.fit(trainX, trainY)\n",
    "    predictionY = knn.predict(testX)\n",
    "    error = sqrt(mean_squared_error(testY,predictionY))\n",
    "    accuracy.append(error)\n",
    "\n",
    "plt.plot(range(1, 79), accuracy, color='black', linestyle='dashed', marker='o',  \n",
    "         markerfacecolor='gray', markersize=10)\n",
    "plt.title('Error Rate vs k')  \n",
    "plt.xlabel('k')  \n",
    "plt.ylabel('Error Rate') \n",
    "plt.show()\n",
    "\n",
    "minimum = min(accuracy)\n",
    "print(minimum)"
   ]
  },
  {
   "cell_type": "raw",
   "metadata": {},
   "source": [
    "The lowesterror rate is 0.6180622315624129 which is k = 30 therefore highest accuracy is at k = 30."
   ]
  },
  {
   "cell_type": "markdown",
   "metadata": {},
   "source": [
    "# Decision Trees"
   ]
  },
  {
   "cell_type": "code",
   "execution_count": 42,
   "metadata": {},
   "outputs": [
    {
     "data": {
      "text/plain": [
       "DecisionTreeRegressor(criterion='mse', max_depth=None, max_features=None,\n",
       "           max_leaf_nodes=None, min_impurity_decrease=0.0,\n",
       "           min_impurity_split=None, min_samples_leaf=1,\n",
       "           min_samples_split=2, min_weight_fraction_leaf=0.0,\n",
       "           presort=False, random_state=None, splitter='best')"
      ]
     },
     "execution_count": 42,
     "metadata": {},
     "output_type": "execute_result"
    }
   ],
   "source": [
    "trainX, testX, trainY, testY = train_test_split(x, y, test_size=0.2, random_state=0)\n",
    "regressor = DecisionTreeRegressor()  \n",
    "regressor.fit(trainX, trainY)"
   ]
  },
  {
   "cell_type": "code",
   "execution_count": 43,
   "metadata": {},
   "outputs": [
    {
     "data": {
      "text/html": [
       "<div>\n",
       "<style scoped>\n",
       "    .dataframe tbody tr th:only-of-type {\n",
       "        vertical-align: middle;\n",
       "    }\n",
       "\n",
       "    .dataframe tbody tr th {\n",
       "        vertical-align: top;\n",
       "    }\n",
       "\n",
       "    .dataframe thead th {\n",
       "        text-align: right;\n",
       "    }\n",
       "</style>\n",
       "<table border=\"1\" class=\"dataframe\">\n",
       "  <thead>\n",
       "    <tr style=\"text-align: right;\">\n",
       "      <th></th>\n",
       "      <th>Real</th>\n",
       "      <th>Predict</th>\n",
       "    </tr>\n",
       "  </thead>\n",
       "  <tbody>\n",
       "    <tr>\n",
       "      <th>12591</th>\n",
       "      <td>2</td>\n",
       "      <td>2.237705</td>\n",
       "    </tr>\n",
       "    <tr>\n",
       "      <th>13232</th>\n",
       "      <td>2</td>\n",
       "      <td>1.611111</td>\n",
       "    </tr>\n",
       "    <tr>\n",
       "      <th>11773</th>\n",
       "      <td>3</td>\n",
       "      <td>2.237705</td>\n",
       "    </tr>\n",
       "    <tr>\n",
       "      <th>15488</th>\n",
       "      <td>2</td>\n",
       "      <td>2.237705</td>\n",
       "    </tr>\n",
       "    <tr>\n",
       "      <th>3149</th>\n",
       "      <td>2</td>\n",
       "      <td>2.000000</td>\n",
       "    </tr>\n",
       "  </tbody>\n",
       "</table>\n",
       "</div>"
      ],
      "text/plain": [
       "       Real   Predict\n",
       "12591     2  2.237705\n",
       "13232     2  1.611111\n",
       "11773     3  2.237705\n",
       "15488     2  2.237705\n",
       "3149      2  2.000000"
      ]
     },
     "execution_count": 43,
     "metadata": {},
     "output_type": "execute_result"
    }
   ],
   "source": [
    "predictionY = regressor.predict(testX)\n",
    "# We can create a dataframe to compare real values in the test set and predicted values\n",
    "compare = pd.DataFrame({'Real':testY, 'Predict':predictionY})\n",
    "compare.head()"
   ]
  },
  {
   "cell_type": "code",
   "execution_count": 44,
   "metadata": {},
   "outputs": [
    {
     "name": "stdout",
     "output_type": "stream",
     "text": [
      "Minimum error rate:  0.6337147645751122\n"
     ]
    }
   ],
   "source": [
    "error = sqrt(mean_squared_error(testY,predictionY))\n",
    "print(\"Minimum error rate: \",error)"
   ]
  },
  {
   "cell_type": "raw",
   "metadata": {},
   "source": [
    "Firstly we can observe that the Knn model results in a lower error rate compared to the decision tree model. As the Knn model is utilized for clustering, it is used in grouping similar instances of variables based on their properties, while the decision tree model is mostly utilized for classification where predefined labels are assigned to instances by features, we can expect the Knn model to perform better in our case and it does."
   ]
  },
  {
   "cell_type": "markdown",
   "metadata": {},
   "source": [
    "# Linear Regression for Hypothesis 2"
   ]
  },
  {
   "cell_type": "code",
   "execution_count": 45,
   "metadata": {},
   "outputs": [
    {
     "data": {
      "text/html": [
       "<div>\n",
       "<style scoped>\n",
       "    .dataframe tbody tr th:only-of-type {\n",
       "        vertical-align: middle;\n",
       "    }\n",
       "\n",
       "    .dataframe tbody tr th {\n",
       "        vertical-align: top;\n",
       "    }\n",
       "\n",
       "    .dataframe thead th {\n",
       "        text-align: right;\n",
       "    }\n",
       "</style>\n",
       "<table border=\"1\" class=\"dataframe\">\n",
       "  <thead>\n",
       "    <tr style=\"text-align: right;\">\n",
       "      <th></th>\n",
       "      <th>Rank</th>\n",
       "      <th>Name</th>\n",
       "      <th>Platform</th>\n",
       "      <th>Year</th>\n",
       "      <th>Genre</th>\n",
       "      <th>Publisher</th>\n",
       "      <th>NA_Sales</th>\n",
       "      <th>EU_Sales</th>\n",
       "      <th>JP_Sales</th>\n",
       "      <th>Other_Sales</th>\n",
       "      <th>Global_Sales</th>\n",
       "      <th>NA+EU</th>\n",
       "      <th>plt</th>\n",
       "    </tr>\n",
       "  </thead>\n",
       "  <tbody>\n",
       "    <tr>\n",
       "      <th>12887</th>\n",
       "      <td>12889</td>\n",
       "      <td>Goosebumps: The Game</td>\n",
       "      <td>3DS</td>\n",
       "      <td>2015.0</td>\n",
       "      <td>2</td>\n",
       "      <td>WayForward Technologies</td>\n",
       "      <td>0.05</td>\n",
       "      <td>0.00</td>\n",
       "      <td>0.00</td>\n",
       "      <td>0.01</td>\n",
       "      <td>0.05</td>\n",
       "      <td>0.05</td>\n",
       "      <td>3</td>\n",
       "    </tr>\n",
       "    <tr>\n",
       "      <th>6390</th>\n",
       "      <td>6392</td>\n",
       "      <td>Ace Attorney 6</td>\n",
       "      <td>3DS</td>\n",
       "      <td>2016.0</td>\n",
       "      <td>2</td>\n",
       "      <td>Capcom</td>\n",
       "      <td>0.00</td>\n",
       "      <td>0.00</td>\n",
       "      <td>0.27</td>\n",
       "      <td>0.00</td>\n",
       "      <td>0.27</td>\n",
       "      <td>0.00</td>\n",
       "      <td>3</td>\n",
       "    </tr>\n",
       "    <tr>\n",
       "      <th>14477</th>\n",
       "      <td>14480</td>\n",
       "      <td>Shantae and the Pirate's Curse</td>\n",
       "      <td>3DS</td>\n",
       "      <td>2015.0</td>\n",
       "      <td>5</td>\n",
       "      <td>Intergrow</td>\n",
       "      <td>0.00</td>\n",
       "      <td>0.00</td>\n",
       "      <td>0.03</td>\n",
       "      <td>0.00</td>\n",
       "      <td>0.03</td>\n",
       "      <td>0.00</td>\n",
       "      <td>3</td>\n",
       "    </tr>\n",
       "    <tr>\n",
       "      <th>14467</th>\n",
       "      <td>14470</td>\n",
       "      <td>Langrisser: Re:Incarnation Tensei</td>\n",
       "      <td>3DS</td>\n",
       "      <td>2015.0</td>\n",
       "      <td>8</td>\n",
       "      <td>Extreme Entertainment Group</td>\n",
       "      <td>0.02</td>\n",
       "      <td>0.00</td>\n",
       "      <td>0.01</td>\n",
       "      <td>0.00</td>\n",
       "      <td>0.03</td>\n",
       "      <td>0.02</td>\n",
       "      <td>3</td>\n",
       "    </tr>\n",
       "    <tr>\n",
       "      <th>1850</th>\n",
       "      <td>1852</td>\n",
       "      <td>The Legend of Zelda: Tri Force Heroes</td>\n",
       "      <td>3DS</td>\n",
       "      <td>2015.0</td>\n",
       "      <td>1</td>\n",
       "      <td>Nintendo</td>\n",
       "      <td>0.52</td>\n",
       "      <td>0.33</td>\n",
       "      <td>0.17</td>\n",
       "      <td>0.08</td>\n",
       "      <td>1.10</td>\n",
       "      <td>0.85</td>\n",
       "      <td>3</td>\n",
       "    </tr>\n",
       "  </tbody>\n",
       "</table>\n",
       "</div>"
      ],
      "text/plain": [
       "        Rank                                   Name Platform    Year  Genre  \\\n",
       "12887  12889                   Goosebumps: The Game      3DS  2015.0      2   \n",
       "6390    6392                         Ace Attorney 6      3DS  2016.0      2   \n",
       "14477  14480         Shantae and the Pirate's Curse      3DS  2015.0      5   \n",
       "14467  14470      Langrisser: Re:Incarnation Tensei      3DS  2015.0      8   \n",
       "1850    1852  The Legend of Zelda: Tri Force Heroes      3DS  2015.0      1   \n",
       "\n",
       "                         Publisher  NA_Sales  EU_Sales  JP_Sales  Other_Sales  \\\n",
       "12887      WayForward Technologies      0.05      0.00      0.00         0.01   \n",
       "6390                        Capcom      0.00      0.00      0.27         0.00   \n",
       "14477                    Intergrow      0.00      0.00      0.03         0.00   \n",
       "14467  Extreme Entertainment Group      0.02      0.00      0.01         0.00   \n",
       "1850                      Nintendo      0.52      0.33      0.17         0.08   \n",
       "\n",
       "       Global_Sales  NA+EU  plt  \n",
       "12887          0.05   0.05    3  \n",
       "6390           0.27   0.00    3  \n",
       "14477          0.03   0.00    3  \n",
       "14467          0.03   0.02    3  \n",
       "1850           1.10   0.85    3  "
      ]
     },
     "execution_count": 45,
     "metadata": {},
     "output_type": "execute_result"
    }
   ],
   "source": [
    "#remodeling data\n",
    "\n",
    "def change2(x):\n",
    "    if x == \"Action\":\n",
    "        return 1\n",
    "    elif x == \"Adventure\":\n",
    "        return 2\n",
    "    elif x == \"Fighting\":\n",
    "        return 3\n",
    "    elif x == \"Misc\":\n",
    "        return 4\n",
    "    elif x == \"Platform\":\n",
    "        return 5\n",
    "    elif x == \"Puzzle\":\n",
    "        return 6\n",
    "    elif x == \"Racing\":\n",
    "        return 7\n",
    "    elif x == \"Role-Playing\":\n",
    "        return 8\n",
    "    elif x == \"Shooter\":\n",
    "        return 9\n",
    "    elif x == \"Simulation\":\n",
    "        return 10\n",
    "    elif x == \"Sports\":\n",
    "        return 11\n",
    "    elif x == \"Strategy\":\n",
    "        return 12\n",
    "    \n",
    "video_game_sales_df['Genre'] = video_game_sales_df.apply(lambda x: change2(x['Genre']), axis=1)\n",
    "\n",
    "video_game_sales_df.head()"
   ]
  },
  {
   "cell_type": "code",
   "execution_count": 46,
   "metadata": {},
   "outputs": [],
   "source": [
    "lr2 = linear_model.LinearRegression()"
   ]
  },
  {
   "cell_type": "code",
   "execution_count": 47,
   "metadata": {},
   "outputs": [
    {
     "name": "stdout",
     "output_type": "stream",
     "text": [
      "(577, 1) (577,)\n",
      "(385, 1) (385,)\n"
     ]
    }
   ],
   "source": [
    "k = video_game_sales_df[[\"NA+EU\"]]\n",
    "m = video_game_sales_df[\"Genre\"]\n",
    "trainK, testK, trainM, testM = train_test_split(k, m, test_size=0.4, random_state=1)\n",
    "print (trainK.shape, trainM.shape)\n",
    "print (testK.shape, testM.shape)"
   ]
  },
  {
   "cell_type": "code",
   "execution_count": 48,
   "metadata": {},
   "outputs": [
    {
     "data": {
      "text/plain": [
       "LinearRegression(copy_X=True, fit_intercept=True, n_jobs=None,\n",
       "         normalize=False)"
      ]
     },
     "execution_count": 48,
     "metadata": {},
     "output_type": "execute_result"
    }
   ],
   "source": [
    "lr2.fit(trainK, trainM)"
   ]
  },
  {
   "cell_type": "code",
   "execution_count": 49,
   "metadata": {},
   "outputs": [
    {
     "data": {
      "text/plain": [
       "array([0.84282104])"
      ]
     },
     "execution_count": 49,
     "metadata": {},
     "output_type": "execute_result"
    }
   ],
   "source": [
    "lr2.coef_"
   ]
  },
  {
   "cell_type": "code",
   "execution_count": 50,
   "metadata": {},
   "outputs": [
    {
     "data": {
      "text/plain": [
       "4.479852318915354"
      ]
     },
     "execution_count": 50,
     "metadata": {},
     "output_type": "execute_result"
    }
   ],
   "source": [
    "lr2.intercept_"
   ]
  },
  {
   "cell_type": "code",
   "execution_count": 51,
   "metadata": {},
   "outputs": [
    {
     "data": {
      "text/plain": [
       "0.03104901661545345"
      ]
     },
     "execution_count": 51,
     "metadata": {},
     "output_type": "execute_result"
    }
   ],
   "source": [
    "lr2.score(testK, testM)"
   ]
  },
  {
   "cell_type": "raw",
   "metadata": {},
   "source": [
    "R^2 is 0.03104901661545345\n",
    "R^2 is around %3.1 which means that regression is random not a straight line."
   ]
  },
  {
   "cell_type": "code",
   "execution_count": 52,
   "metadata": {},
   "outputs": [
    {
     "name": "stdout",
     "output_type": "stream",
     "text": [
      "14.932036370859048\n"
     ]
    }
   ],
   "source": [
    "pre_y = lr2.predict(testK)\n",
    "\n",
    "meanSE = mean_squared_error(pre_y, testM)\n",
    "\n",
    "print(meanSE)"
   ]
  },
  {
   "cell_type": "raw",
   "metadata": {},
   "source": [
    "We can see that our Mean Squared Error is 14.932036370859048."
   ]
  },
  {
   "cell_type": "code",
   "execution_count": 53,
   "metadata": {},
   "outputs": [
    {
     "data": {
      "text/plain": [
       "<matplotlib.collections.PathCollection at 0x1a2055dc88>"
      ]
     },
     "execution_count": 53,
     "metadata": {},
     "output_type": "execute_result"
    },
    {
     "data": {
      "image/png": "[encoded data removed]",
      "text/plain": [
       "<Figure size 432x288 with 1 Axes>"
      ]
     },
     "metadata": {
      "needs_background": "light"
     },
     "output_type": "display_data"
    }
   ],
   "source": [
    "predict = lr2.predict(testK)\n",
    "plt.scatter(testM, predict)\n",
    "\n",
    "# 1 stands for Action\n",
    "# 2 stands for Adventure\n",
    "# 3 stands for Fighting\n",
    "# 4 stands for Misc\n",
    "# 5 stands for Platform\n",
    "# 6 stands for Puzzle\n",
    "# 7 stands for Racing\n",
    "# 8 stands for Role-Playing\n",
    "# 9 stands for Shooter\n",
    "# 10 stands for Simulation\n",
    "# 11 stands for Sports\n",
    "# 12 stands for Strategy"
   ]
  },
  {
   "cell_type": "markdown",
   "metadata": {},
   "source": [
    "# k-Nearest Neighbors ML"
   ]
  },
  {
   "cell_type": "code",
   "execution_count": 54,
   "metadata": {},
   "outputs": [],
   "source": [
    "accuracy = []\n",
    "def fillAccuracy():\n",
    "    for k in range (1, 79):\n",
    "        knn = KNeighborsClassifier(n_neighbors = k)\n",
    "        knn.fit(trainK, trainM)\n",
    "        predictionM = knn.predict(testK)\n",
    "        accuracy.append(metrics.accuracy_score(testM, predictionM))"
   ]
  },
  {
   "cell_type": "code",
   "execution_count": 55,
   "metadata": {},
   "outputs": [
    {
     "data": {
      "image/png": "[encoded data removed]",
      "text/plain": [
       "<Figure size 432x288 with 1 Axes>"
      ]
     },
     "metadata": {
      "needs_background": "light"
     },
     "output_type": "display_data"
    }
   ],
   "source": [
    "fillAccuracy()\n",
    "\n",
    "plt.plot(range(1, 79), accuracy, color='black', linestyle='dashed', marker='o',  \n",
    "         markerfacecolor='gray', markersize=10)\n",
    "plt.title('Accuracy vs k')  \n",
    "plt.xlabel('k')  \n",
    "plt.ylabel('Accuracy') \n",
    "plt.show()\n"
   ]
  },
  {
   "cell_type": "raw",
   "metadata": {},
   "source": [
    "The graph shows that k = 53 has the highest accuracy. Therefore we are gonna use k = 53"
   ]
  },
  {
   "cell_type": "code",
   "execution_count": 56,
   "metadata": {},
   "outputs": [
    {
     "data": {
      "text/plain": [
       "KNeighborsClassifier(algorithm='auto', leaf_size=30, metric='minkowski',\n",
       "           metric_params=None, n_jobs=None, n_neighbors=53, p=2,\n",
       "           weights='uniform')"
      ]
     },
     "execution_count": 56,
     "metadata": {},
     "output_type": "execute_result"
    }
   ],
   "source": [
    "knn = KNeighborsClassifier(n_neighbors=53)\n",
    "knn.fit(trainX, trainY)"
   ]
  },
  {
   "cell_type": "code",
   "execution_count": 57,
   "metadata": {},
   "outputs": [
    {
     "name": "stdout",
     "output_type": "stream",
     "text": [
      "0.17402597402597403\n"
     ]
    }
   ],
   "source": [
    "predictionM = knn.predict(testK)\n",
    "print(metrics.accuracy_score(testM, predictionM))"
   ]
  },
  {
   "cell_type": "raw",
   "metadata": {},
   "source": [
    "Accuracy according the chosen k = 0.17402597402597403."
   ]
  },
  {
   "cell_type": "markdown",
   "metadata": {},
   "source": [
    "# Normalization of Data According to K-NN"
   ]
  },
  {
   "cell_type": "code",
   "execution_count": 58,
   "metadata": {},
   "outputs": [],
   "source": [
    "norm = video_game_sales_df[[\"NA+EU\",\"Genre\"]]\n",
    "normalized = (norm-norm.mean()) / norm.std() #Normalizing the data\n",
    "normalizedX = normalized[[\"NA+EU\"]]\n",
    "y = video_game_sales_df[\"Genre\"]\n",
    "trainK, testK, trainM, testM = train_test_split(normalizedX, y, test_size= 0.25, random_state = 1)\n",
    "knn = KNeighborsClassifier(n_neighbors=30)\n",
    "knn.fit(trainK, trainM)\n",
    "predictionY = knn.predict(testK)"
   ]
  },
  {
   "cell_type": "code",
   "execution_count": 59,
   "metadata": {},
   "outputs": [
    {
     "data": {
      "image/png": "[encoded data removed]",
      "text/plain": [
       "<Figure size 432x288 with 1 Axes>"
      ]
     },
     "metadata": {
      "needs_background": "light"
     },
     "output_type": "display_data"
    },
    {
     "name": "stdout",
     "output_type": "stream",
     "text": [
      "3.83363016393939\n"
     ]
    }
   ],
   "source": [
    "accuracy = []\n",
    "\n",
    "for k in range (1, 79):\n",
    "    knn = KNeighborsRegressor(n_neighbors = k)\n",
    "    knn.fit(trainK, trainM)\n",
    "    predictionY = knn.predict(testK)\n",
    "    error = sqrt(mean_squared_error(testM,predictionY))\n",
    "    accuracy.append(error)\n",
    "\n",
    "plt.plot(range(1, 79), accuracy, color='black', linestyle='dashed', marker='o',  \n",
    "         markerfacecolor='gray', markersize=10)\n",
    "plt.title('Error Rate vs k')  \n",
    "plt.xlabel('k')  \n",
    "plt.ylabel('Error Rate') \n",
    "plt.show()\n",
    "\n",
    "minimum = min(accuracy)\n",
    "print(minimum)"
   ]
  },
  {
   "cell_type": "raw",
   "metadata": {},
   "source": [
    "The lowesterror rate is 0.6180622315624129 which is k = 53 therefore highest accuracy is at k = 53.\n"
   ]
  },
  {
   "cell_type": "markdown",
   "metadata": {},
   "source": [
    "# Decision Trees"
   ]
  },
  {
   "cell_type": "code",
   "execution_count": 60,
   "metadata": {},
   "outputs": [
    {
     "data": {
      "text/plain": [
       "DecisionTreeRegressor(criterion='mse', max_depth=None, max_features=None,\n",
       "           max_leaf_nodes=None, min_impurity_decrease=0.0,\n",
       "           min_impurity_split=None, min_samples_leaf=1,\n",
       "           min_samples_split=2, min_weight_fraction_leaf=0.0,\n",
       "           presort=False, random_state=None, splitter='best')"
      ]
     },
     "execution_count": 60,
     "metadata": {},
     "output_type": "execute_result"
    }
   ],
   "source": [
    "trainK, testK, trainM, testM = train_test_split(x, y, test_size=0.2, random_state=0)\n",
    "regressor = DecisionTreeRegressor()  \n",
    "regressor.fit(trainK, trainM)"
   ]
  },
  {
   "cell_type": "code",
   "execution_count": 61,
   "metadata": {},
   "outputs": [
    {
     "data": {
      "text/html": [
       "<div>\n",
       "<style scoped>\n",
       "    .dataframe tbody tr th:only-of-type {\n",
       "        vertical-align: middle;\n",
       "    }\n",
       "\n",
       "    .dataframe tbody tr th {\n",
       "        vertical-align: top;\n",
       "    }\n",
       "\n",
       "    .dataframe thead th {\n",
       "        text-align: right;\n",
       "    }\n",
       "</style>\n",
       "<table border=\"1\" class=\"dataframe\">\n",
       "  <thead>\n",
       "    <tr style=\"text-align: right;\">\n",
       "      <th></th>\n",
       "      <th>Real</th>\n",
       "      <th>Predict</th>\n",
       "    </tr>\n",
       "  </thead>\n",
       "  <tbody>\n",
       "    <tr>\n",
       "      <th>12591</th>\n",
       "      <td>1</td>\n",
       "      <td>3.426230</td>\n",
       "    </tr>\n",
       "    <tr>\n",
       "      <th>13232</th>\n",
       "      <td>11</td>\n",
       "      <td>6.333333</td>\n",
       "    </tr>\n",
       "    <tr>\n",
       "      <th>11773</th>\n",
       "      <td>4</td>\n",
       "      <td>3.426230</td>\n",
       "    </tr>\n",
       "    <tr>\n",
       "      <th>15488</th>\n",
       "      <td>1</td>\n",
       "      <td>3.426230</td>\n",
       "    </tr>\n",
       "    <tr>\n",
       "      <th>3149</th>\n",
       "      <td>1</td>\n",
       "      <td>4.500000</td>\n",
       "    </tr>\n",
       "  </tbody>\n",
       "</table>\n",
       "</div>"
      ],
      "text/plain": [
       "       Real   Predict\n",
       "12591     1  3.426230\n",
       "13232    11  6.333333\n",
       "11773     4  3.426230\n",
       "15488     1  3.426230\n",
       "3149      1  4.500000"
      ]
     },
     "execution_count": 61,
     "metadata": {},
     "output_type": "execute_result"
    }
   ],
   "source": [
    "predictionM = regressor.predict(testK)\n",
    "# We can create a dataframe to compare real values in the test set and predicted values\n",
    "compare = pd.DataFrame({'Real':testM, 'Predict':predictionM})\n",
    "compare.head()"
   ]
  },
  {
   "cell_type": "code",
   "execution_count": 62,
   "metadata": {},
   "outputs": [
    {
     "name": "stdout",
     "output_type": "stream",
     "text": [
      "Minimum error rate:  4.092783985316081\n"
     ]
    }
   ],
   "source": [
    "error = sqrt(mean_squared_error(testM,predictionM))\n",
    "print(\"Minimum error rate: \",error)"
   ]
  },
  {
   "cell_type": "raw",
   "metadata": {},
   "source": [
    "Firstly we can observe that the Knn model results in a lower error rate compared to the decision tree model. As the Knn model is utilized for clustering, it is used in grouping similar instances of variables based on their properties, while the decision tree model is mostly utilized for classification where predefined labels are assigned to instances by features, we can expect the Knn model to perform better in our case and it does."
   ]
  },
  {
   "cell_type": "markdown",
   "metadata": {},
   "source": [
    "# Linear Regression for Hypothesis 3"
   ]
  },
  {
   "cell_type": "code",
   "execution_count": 63,
   "metadata": {},
   "outputs": [
    {
     "data": {
      "text/html": [
       "<div>\n",
       "<style scoped>\n",
       "    .dataframe tbody tr th:only-of-type {\n",
       "        vertical-align: middle;\n",
       "    }\n",
       "\n",
       "    .dataframe tbody tr th {\n",
       "        vertical-align: top;\n",
       "    }\n",
       "\n",
       "    .dataframe thead th {\n",
       "        text-align: right;\n",
       "    }\n",
       "</style>\n",
       "<table border=\"1\" class=\"dataframe\">\n",
       "  <thead>\n",
       "    <tr style=\"text-align: right;\">\n",
       "      <th></th>\n",
       "      <th>video_id</th>\n",
       "      <th>trending_date</th>\n",
       "      <th>title</th>\n",
       "      <th>channel_title</th>\n",
       "      <th>category_id</th>\n",
       "      <th>publish_time</th>\n",
       "      <th>tags</th>\n",
       "      <th>views</th>\n",
       "      <th>likes</th>\n",
       "      <th>dislikes</th>\n",
       "      <th>comment_count</th>\n",
       "      <th>thumbnail_link</th>\n",
       "      <th>comments_disabled</th>\n",
       "      <th>ratings_disabled</th>\n",
       "      <th>video_error_or_removed</th>\n",
       "      <th>description</th>\n",
       "      <th>platform</th>\n",
       "    </tr>\n",
       "  </thead>\n",
       "  <tbody>\n",
       "    <tr>\n",
       "      <th>29350</th>\n",
       "      <td>sq4hYZlDPec</td>\n",
       "      <td>18.18.04</td>\n",
       "      <td>Game Theory: Will the Fortnite Meteor Destroy ...</td>\n",
       "      <td>The Game Theorists</td>\n",
       "      <td>20</td>\n",
       "      <td>2018-04-17T19:11:23.000Z</td>\n",
       "      <td>fortnite|\"fortnite meteor\"|\"tilted towers\"|\"fo...</td>\n",
       "      <td>1871511</td>\n",
       "      <td>78816</td>\n",
       "      <td>4779</td>\n",
       "      <td>23398</td>\n",
       "      <td>https://i.ytimg.com/vi/sq4hYZlDPec/default.jpg</td>\n",
       "      <td>False</td>\n",
       "      <td>False</td>\n",
       "      <td>False</td>\n",
       "      <td>Subscribe to never miss a theory! ► http://bit...</td>\n",
       "      <td>1</td>\n",
       "    </tr>\n",
       "    <tr>\n",
       "      <th>29555</th>\n",
       "      <td>sq4hYZlDPec</td>\n",
       "      <td>18.19.04</td>\n",
       "      <td>Game Theory: Will the Fortnite Meteor Destroy ...</td>\n",
       "      <td>The Game Theorists</td>\n",
       "      <td>20</td>\n",
       "      <td>2018-04-17T19:11:23.000Z</td>\n",
       "      <td>fortnite|\"fortnite meteor\"|\"tilted towers\"|\"fo...</td>\n",
       "      <td>3552278</td>\n",
       "      <td>118304</td>\n",
       "      <td>9769</td>\n",
       "      <td>34208</td>\n",
       "      <td>https://i.ytimg.com/vi/sq4hYZlDPec/default.jpg</td>\n",
       "      <td>False</td>\n",
       "      <td>False</td>\n",
       "      <td>False</td>\n",
       "      <td>Subscribe to never miss a theory! ► http://bit...</td>\n",
       "      <td>1</td>\n",
       "    </tr>\n",
       "    <tr>\n",
       "      <th>29763</th>\n",
       "      <td>sq4hYZlDPec</td>\n",
       "      <td>18.20.04</td>\n",
       "      <td>Game Theory: Will the Fortnite Meteor Destroy ...</td>\n",
       "      <td>The Game Theorists</td>\n",
       "      <td>20</td>\n",
       "      <td>2018-04-17T19:11:23.000Z</td>\n",
       "      <td>fortnite|\"fortnite meteor\"|\"tilted towers\"|\"fo...</td>\n",
       "      <td>3918780</td>\n",
       "      <td>124732</td>\n",
       "      <td>10817</td>\n",
       "      <td>36224</td>\n",
       "      <td>https://i.ytimg.com/vi/sq4hYZlDPec/default.jpg</td>\n",
       "      <td>False</td>\n",
       "      <td>False</td>\n",
       "      <td>False</td>\n",
       "      <td>Subscribe to never miss a theory! ► http://bit...</td>\n",
       "      <td>1</td>\n",
       "    </tr>\n",
       "    <tr>\n",
       "      <th>29987</th>\n",
       "      <td>sq4hYZlDPec</td>\n",
       "      <td>18.21.04</td>\n",
       "      <td>Game Theory: Will the Fortnite Meteor Destroy ...</td>\n",
       "      <td>The Game Theorists</td>\n",
       "      <td>20</td>\n",
       "      <td>2018-04-17T19:11:23.000Z</td>\n",
       "      <td>fortnite|\"fortnite meteor\"|\"tilted towers\"|\"fo...</td>\n",
       "      <td>4242693</td>\n",
       "      <td>129303</td>\n",
       "      <td>11528</td>\n",
       "      <td>37763</td>\n",
       "      <td>https://i.ytimg.com/vi/sq4hYZlDPec/default.jpg</td>\n",
       "      <td>False</td>\n",
       "      <td>False</td>\n",
       "      <td>False</td>\n",
       "      <td>Subscribe to never miss a theory! ► http://bit...</td>\n",
       "      <td>1</td>\n",
       "    </tr>\n",
       "    <tr>\n",
       "      <th>30207</th>\n",
       "      <td>sq4hYZlDPec</td>\n",
       "      <td>18.22.04</td>\n",
       "      <td>Game Theory: Will the Fortnite Meteor Destroy ...</td>\n",
       "      <td>The Game Theorists</td>\n",
       "      <td>20</td>\n",
       "      <td>2018-04-17T19:11:23.000Z</td>\n",
       "      <td>fortnite|\"fortnite meteor\"|\"tilted towers\"|\"fo...</td>\n",
       "      <td>4532652</td>\n",
       "      <td>132867</td>\n",
       "      <td>12065</td>\n",
       "      <td>38751</td>\n",
       "      <td>https://i.ytimg.com/vi/sq4hYZlDPec/default.jpg</td>\n",
       "      <td>False</td>\n",
       "      <td>False</td>\n",
       "      <td>False</td>\n",
       "      <td>Subscribe to never miss a theory! ► http://bit...</td>\n",
       "      <td>1</td>\n",
       "    </tr>\n",
       "  </tbody>\n",
       "</table>\n",
       "</div>"
      ],
      "text/plain": [
       "          video_id trending_date  \\\n",
       "29350  sq4hYZlDPec      18.18.04   \n",
       "29555  sq4hYZlDPec      18.19.04   \n",
       "29763  sq4hYZlDPec      18.20.04   \n",
       "29987  sq4hYZlDPec      18.21.04   \n",
       "30207  sq4hYZlDPec      18.22.04   \n",
       "\n",
       "                                                   title       channel_title  \\\n",
       "29350  Game Theory: Will the Fortnite Meteor Destroy ...  The Game Theorists   \n",
       "29555  Game Theory: Will the Fortnite Meteor Destroy ...  The Game Theorists   \n",
       "29763  Game Theory: Will the Fortnite Meteor Destroy ...  The Game Theorists   \n",
       "29987  Game Theory: Will the Fortnite Meteor Destroy ...  The Game Theorists   \n",
       "30207  Game Theory: Will the Fortnite Meteor Destroy ...  The Game Theorists   \n",
       "\n",
       "       category_id              publish_time  \\\n",
       "29350           20  2018-04-17T19:11:23.000Z   \n",
       "29555           20  2018-04-17T19:11:23.000Z   \n",
       "29763           20  2018-04-17T19:11:23.000Z   \n",
       "29987           20  2018-04-17T19:11:23.000Z   \n",
       "30207           20  2018-04-17T19:11:23.000Z   \n",
       "\n",
       "                                                    tags    views   likes  \\\n",
       "29350  fortnite|\"fortnite meteor\"|\"tilted towers\"|\"fo...  1871511   78816   \n",
       "29555  fortnite|\"fortnite meteor\"|\"tilted towers\"|\"fo...  3552278  118304   \n",
       "29763  fortnite|\"fortnite meteor\"|\"tilted towers\"|\"fo...  3918780  124732   \n",
       "29987  fortnite|\"fortnite meteor\"|\"tilted towers\"|\"fo...  4242693  129303   \n",
       "30207  fortnite|\"fortnite meteor\"|\"tilted towers\"|\"fo...  4532652  132867   \n",
       "\n",
       "       dislikes  comment_count  \\\n",
       "29350      4779          23398   \n",
       "29555      9769          34208   \n",
       "29763     10817          36224   \n",
       "29987     11528          37763   \n",
       "30207     12065          38751   \n",
       "\n",
       "                                       thumbnail_link  comments_disabled  \\\n",
       "29350  https://i.ytimg.com/vi/sq4hYZlDPec/default.jpg              False   \n",
       "29555  https://i.ytimg.com/vi/sq4hYZlDPec/default.jpg              False   \n",
       "29763  https://i.ytimg.com/vi/sq4hYZlDPec/default.jpg              False   \n",
       "29987  https://i.ytimg.com/vi/sq4hYZlDPec/default.jpg              False   \n",
       "30207  https://i.ytimg.com/vi/sq4hYZlDPec/default.jpg              False   \n",
       "\n",
       "       ratings_disabled  video_error_or_removed  \\\n",
       "29350             False                   False   \n",
       "29555             False                   False   \n",
       "29763             False                   False   \n",
       "29987             False                   False   \n",
       "30207             False                   False   \n",
       "\n",
       "                                             description  platform  \n",
       "29350  Subscribe to never miss a theory! ► http://bit...         1  \n",
       "29555  Subscribe to never miss a theory! ► http://bit...         1  \n",
       "29763  Subscribe to never miss a theory! ► http://bit...         1  \n",
       "29987  Subscribe to never miss a theory! ► http://bit...         1  \n",
       "30207  Subscribe to never miss a theory! ► http://bit...         1  "
      ]
     },
     "execution_count": 63,
     "metadata": {},
     "output_type": "execute_result"
    }
   ],
   "source": [
    "#Modiying dataframe\n",
    "youtube_platform['platform'] = youtube_platform.apply(lambda x: change(x['platform']), axis=1)\n",
    "youtube_platform.head()"
   ]
  },
  {
   "cell_type": "code",
   "execution_count": 64,
   "metadata": {},
   "outputs": [],
   "source": [
    "lr3 = linear_model.LinearRegression()\n",
    "\n",
    "x = youtube_platform[[\"likes\"]]\n",
    "y = youtube_platform[\"platform\"]\n",
    "trainK, testK, trainM, testM = train_test_split(x, y, test_size=0.4, random_state=1)"
   ]
  },
  {
   "cell_type": "code",
   "execution_count": 65,
   "metadata": {},
   "outputs": [
    {
     "data": {
      "text/plain": [
       "LinearRegression(copy_X=True, fit_intercept=True, n_jobs=None,\n",
       "         normalize=False)"
      ]
     },
     "execution_count": 65,
     "metadata": {},
     "output_type": "execute_result"
    }
   ],
   "source": [
    "lr.fit(trainK, trainM)"
   ]
  },
  {
   "cell_type": "code",
   "execution_count": 66,
   "metadata": {},
   "outputs": [
    {
     "data": {
      "text/plain": [
       "array([-1.77429912e-06])"
      ]
     },
     "execution_count": 66,
     "metadata": {},
     "output_type": "execute_result"
    }
   ],
   "source": [
    "lr.coef_"
   ]
  },
  {
   "cell_type": "code",
   "execution_count": 67,
   "metadata": {},
   "outputs": [
    {
     "data": {
      "text/plain": [
       "1.2323453548298657"
      ]
     },
     "execution_count": 67,
     "metadata": {},
     "output_type": "execute_result"
    }
   ],
   "source": [
    "lr.intercept_"
   ]
  },
  {
   "cell_type": "code",
   "execution_count": 68,
   "metadata": {},
   "outputs": [
    {
     "data": {
      "text/plain": [
       "-0.009904167775017347"
      ]
     },
     "execution_count": 68,
     "metadata": {},
     "output_type": "execute_result"
    }
   ],
   "source": [
    "lr.score(testK,testM)"
   ]
  },
  {
   "cell_type": "code",
   "execution_count": 69,
   "metadata": {},
   "outputs": [
    {
     "name": "stdout",
     "output_type": "stream",
     "text": [
      "0.1823680752794419\n"
     ]
    }
   ],
   "source": [
    "pre_y = lr.predict(testK)\n",
    "meanSE = mean_squared_error(pre_y, testM)\n",
    "print(meanSE)"
   ]
  },
  {
   "cell_type": "raw",
   "metadata": {},
   "source": [
    "We can see that our Mean Squared Error is 0.1823680752794419."
   ]
  },
  {
   "cell_type": "code",
   "execution_count": 70,
   "metadata": {},
   "outputs": [
    {
     "data": {
      "text/plain": [
       "<matplotlib.collections.PathCollection at 0x1a1ed0db38>"
      ]
     },
     "execution_count": 70,
     "metadata": {},
     "output_type": "execute_result"
    },
    {
     "data": {
      "image/png": "[encoded data removed]",
      "text/plain": [
       "<Figure size 432x288 with 1 Axes>"
      ]
     },
     "metadata": {
      "needs_background": "light"
     },
     "output_type": "display_data"
    }
   ],
   "source": [
    "predict = lr.predict(testK)\n",
    "plt.scatter(testM, predict)\n",
    "# 1 stands for Microsoft\n",
    "# 2 stands for Sony\n",
    "# 3 stands for Nintendo"
   ]
  },
  {
   "cell_type": "markdown",
   "metadata": {},
   "source": [
    "# k-Nearest Neighbors ML\n"
   ]
  },
  {
   "cell_type": "code",
   "execution_count": 71,
   "metadata": {},
   "outputs": [],
   "source": [
    "accuracy = []\n",
    "def fillAccuracy():\n",
    "    for k in range (1, 79):\n",
    "        knn = KNeighborsClassifier(n_neighbors = k)\n",
    "        knn.fit(trainK, trainM)\n",
    "        predictionY = knn.predict(testK)\n",
    "        accuracy.append(metrics.accuracy_score(testM, predictionY))\n",
    "\n",
    "fillAccuracy()\n"
   ]
  },
  {
   "cell_type": "code",
   "execution_count": 72,
   "metadata": {},
   "outputs": [
    {
     "data": {
      "image/png": "[encoded data removed]",
      "text/plain": [
       "<Figure size 432x288 with 1 Axes>"
      ]
     },
     "metadata": {
      "needs_background": "light"
     },
     "output_type": "display_data"
    }
   ],
   "source": [
    "plt.plot(range(1, 79), accuracy, color='black', linestyle='dashed', marker='o',  \n",
    "         markerfacecolor='gray', markersize=10)\n",
    "plt.title('Accuracy vs k')  \n",
    "plt.xlabel('k')  \n",
    "plt.ylabel('Accuracy') \n",
    "plt.show()"
   ]
  },
  {
   "cell_type": "raw",
   "metadata": {},
   "source": [
    "The graph shows that k = 3 has the highest accuracy. Therefore we are gonna use k = 38."
   ]
  },
  {
   "cell_type": "code",
   "execution_count": 73,
   "metadata": {},
   "outputs": [
    {
     "data": {
      "text/plain": [
       "KNeighborsClassifier(algorithm='auto', leaf_size=30, metric='minkowski',\n",
       "           metric_params=None, n_jobs=None, n_neighbors=3, p=2,\n",
       "           weights='uniform')"
      ]
     },
     "execution_count": 73,
     "metadata": {},
     "output_type": "execute_result"
    }
   ],
   "source": [
    "knn = KNeighborsClassifier(n_neighbors=3)\n",
    "knn.fit(trainK, trainM)"
   ]
  },
  {
   "cell_type": "code",
   "execution_count": 74,
   "metadata": {},
   "outputs": [
    {
     "name": "stdout",
     "output_type": "stream",
     "text": [
      "0.9411764705882353\n"
     ]
    }
   ],
   "source": [
    "predictionY = knn.predict(testK)\n",
    "print(metrics.accuracy_score(testM, predictionY))"
   ]
  },
  {
   "cell_type": "raw",
   "metadata": {},
   "source": [
    "Accuracy according the chosen k = 0.9705882352941176/"
   ]
  },
  {
   "cell_type": "markdown",
   "metadata": {},
   "source": [
    "# Normalization of Data According to K-NN"
   ]
  },
  {
   "cell_type": "code",
   "execution_count": 75,
   "metadata": {},
   "outputs": [],
   "source": [
    "norm = youtube_platform[[\"likes\"]]\n",
    "normalized = (norm-norm.mean()) / norm.std() #Normalizing the data\n",
    "normalizedX = normalized[[\"likes\"]]\n",
    "y = youtube_platform[\"platform\"]\n",
    "trainK, testK, trainM, testM = train_test_split(normalizedX, y, test_size= 0.25, random_state = 1)\n",
    "knn = KNeighborsClassifier(n_neighbors=6)\n",
    "knn.fit(trainK, trainM)\n",
    "predictionY = knn.predict(testK)"
   ]
  },
  {
   "cell_type": "code",
   "execution_count": 76,
   "metadata": {},
   "outputs": [
    {
     "data": {
      "image/png": "[encoded data removed]",
      "text/plain": [
       "<Figure size 432x288 with 1 Axes>"
      ]
     },
     "metadata": {
      "needs_background": "light"
     },
     "output_type": "display_data"
    },
    {
     "name": "stdout",
     "output_type": "stream",
     "text": [
      "0.3371870259059154\n"
     ]
    }
   ],
   "source": [
    "accuracy = []\n",
    "\n",
    "for k in range (1, 79):\n",
    "    knn = KNeighborsRegressor(n_neighbors = k)\n",
    "    knn.fit(trainK, trainM)\n",
    "    predictionY = knn.predict(testK)\n",
    "    error = sqrt(mean_squared_error(testM,predictionY))\n",
    "    accuracy.append(error)\n",
    "\n",
    "plt.plot(range(1, 79), accuracy, color='black', linestyle='dashed', marker='o',  \n",
    "         markerfacecolor='gray', markersize=10)\n",
    "plt.title('Error Rate vs k')  \n",
    "plt.xlabel('k')  \n",
    "plt.ylabel('Error Rate') \n",
    "plt.show()\n",
    "\n",
    "minimum = min(accuracy)\n",
    "print(minimum)"
   ]
  },
  {
   "cell_type": "raw",
   "metadata": {},
   "source": [
    "The lowesterror rate is 0.3371870259059154 which is k = 6 therefore highest accuracy is at k = 6."
   ]
  },
  {
   "cell_type": "markdown",
   "metadata": {},
   "source": [
    "# Decision Trees"
   ]
  },
  {
   "cell_type": "code",
   "execution_count": 77,
   "metadata": {},
   "outputs": [
    {
     "data": {
      "text/plain": [
       "DecisionTreeRegressor(criterion='mse', max_depth=None, max_features=None,\n",
       "           max_leaf_nodes=None, min_impurity_decrease=0.0,\n",
       "           min_impurity_split=None, min_samples_leaf=1,\n",
       "           min_samples_split=2, min_weight_fraction_leaf=0.0,\n",
       "           presort=False, random_state=None, splitter='best')"
      ]
     },
     "execution_count": 77,
     "metadata": {},
     "output_type": "execute_result"
    }
   ],
   "source": [
    "trainK, testK, trainM, testM = train_test_split(x, y, test_size=0.2, random_state=0)\n",
    "regressor = DecisionTreeRegressor()  \n",
    "regressor.fit(trainK, trainM)"
   ]
  },
  {
   "cell_type": "code",
   "execution_count": 78,
   "metadata": {},
   "outputs": [
    {
     "data": {
      "text/html": [
       "<div>\n",
       "<style scoped>\n",
       "    .dataframe tbody tr th:only-of-type {\n",
       "        vertical-align: middle;\n",
       "    }\n",
       "\n",
       "    .dataframe tbody tr th {\n",
       "        vertical-align: top;\n",
       "    }\n",
       "\n",
       "    .dataframe thead th {\n",
       "        text-align: right;\n",
       "    }\n",
       "</style>\n",
       "<table border=\"1\" class=\"dataframe\">\n",
       "  <thead>\n",
       "    <tr style=\"text-align: right;\">\n",
       "      <th></th>\n",
       "      <th>Real</th>\n",
       "      <th>Predict</th>\n",
       "    </tr>\n",
       "  </thead>\n",
       "  <tbody>\n",
       "    <tr>\n",
       "      <th>26005</th>\n",
       "      <td>3</td>\n",
       "      <td>1.0</td>\n",
       "    </tr>\n",
       "    <tr>\n",
       "      <th>26390</th>\n",
       "      <td>1</td>\n",
       "      <td>1.0</td>\n",
       "    </tr>\n",
       "    <tr>\n",
       "      <th>40873</th>\n",
       "      <td>1</td>\n",
       "      <td>1.0</td>\n",
       "    </tr>\n",
       "    <tr>\n",
       "      <th>23231</th>\n",
       "      <td>1</td>\n",
       "      <td>1.0</td>\n",
       "    </tr>\n",
       "    <tr>\n",
       "      <th>23351</th>\n",
       "      <td>1</td>\n",
       "      <td>2.0</td>\n",
       "    </tr>\n",
       "  </tbody>\n",
       "</table>\n",
       "</div>"
      ],
      "text/plain": [
       "       Real  Predict\n",
       "26005     3      1.0\n",
       "26390     1      1.0\n",
       "40873     1      1.0\n",
       "23231     1      1.0\n",
       "23351     1      2.0"
      ]
     },
     "execution_count": 78,
     "metadata": {},
     "output_type": "execute_result"
    }
   ],
   "source": [
    "predictionM = regressor.predict(testK)\n",
    "# We can create a dataframe to compare real values in the test set and predicted values\n",
    "compare = pd.DataFrame({'Real':testM, 'Predict':predictionM})\n",
    "compare.head()"
   ]
  },
  {
   "cell_type": "code",
   "execution_count": 79,
   "metadata": {},
   "outputs": [
    {
     "name": "stdout",
     "output_type": "stream",
     "text": [
      "Minimum error rate:  0.7071067811865476\n"
     ]
    }
   ],
   "source": [
    "error = sqrt(mean_squared_error(testM,predictionM))\n",
    "print(\"Minimum error rate: \",error)"
   ]
  },
  {
   "cell_type": "raw",
   "metadata": {},
   "source": [
    "Firstly we can observe that the Knn model results in a lower error rate compared to the decision tree model. As the Knn model is utilized for clustering, it is used in grouping similar instances of variables based on their properties, while the decision tree model is mostly utilized for classification where predefined labels are assigned to instances by features, we can expect the Knn model to perform better in our case and it does."
   ]
  }
 ],
 "metadata": {
  "kernelspec": {
   "display_name": "Python 3",
   "language": "python",
   "name": "python3"
  },
  "language_info": {
   "codemirror_mode": {
    "name": "ipython",
    "version": 3
   },
   "file_extension": ".py",
   "mimetype": "text/x-python",
   "name": "python",
   "nbconvert_exporter": "python",
   "pygments_lexer": "ipython3",
   "version": "3.7.1"
  }
 },
 "nbformat": 4,
 "nbformat_minor": 2
}
